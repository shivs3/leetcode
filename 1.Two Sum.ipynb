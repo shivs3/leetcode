{
 "cells": [
  {
   "cell_type": "markdown",
   "id": "5e6a0db8-29a9-4be0-b68d-5ea9847bd2cb",
   "metadata": {},
   "source": [
    "Two Sum"
   ]
  },
  {
   "cell_type": "markdown",
   "id": "3d70a1f7-1a72-4d2b-b8e2-aa88b526067a",
   "metadata": {},
   "source": [
    "Given an array of integers nums and an integer target, return indices of the two numbers such that they add up to target.\n",
    "\n",
    "You may assume that each input would have exactly one solution, and you may not use the same element twice.\n",
    "\n",
    "You can return the answer in any order.\n",
    "\n",
    " \n",
    "\n",
    "Example 1:\n",
    "\n",
    "Input: nums = [2,7,11,15], target = 9\n",
    "Output: [0,1]\n",
    "Explanation: Because nums[0] + nums[1] == 9, we return [0, 1].\n",
    "Example 2:\n",
    "\n",
    "Input: nums = [3,2,4], target = 6\n",
    "Output: [1,2]\n",
    "Example 3:\n",
    "\n",
    "Input: nums = [3,3], target = 6\n",
    "Output: [0,1]\n"
   ]
  },
  {
   "cell_type": "code",
   "execution_count": 2,
   "id": "30f7f1b6-b8e5-4b12-8d4d-58132ba0c742",
   "metadata": {},
   "outputs": [],
   "source": [
    "def twoSum(nums,target):\n",
    "    numToIndex={}\n",
    "    for i, num in enumerate(nums):\n",
    "      if target - num in numToIndex:\n",
    "        return numToIndex[target - num], i\n",
    "      numToIndex[num] = i"
   ]
  },
  {
   "cell_type": "code",
   "execution_count": 3,
   "id": "d17b9bbd-4c00-4ca5-b164-b848201434fb",
   "metadata": {},
   "outputs": [],
   "source": [
    "nums=[2,7,11,15]\n",
    "target=9"
   ]
  },
  {
   "cell_type": "code",
   "execution_count": 5,
   "id": "501b6d6a-bf03-4e89-83c0-7919a7dc12be",
   "metadata": {},
   "outputs": [
    {
     "data": {
      "text/plain": [
       "(0, 1)"
      ]
     },
     "execution_count": 5,
     "metadata": {},
     "output_type": "execute_result"
    }
   ],
   "source": [
    "twoSum(nums,target)"
   ]
  },
  {
   "cell_type": "code",
   "execution_count": null,
   "id": "3ec29359-7bb3-44a7-b7a3-bfc14d78c6a7",
   "metadata": {},
   "outputs": [],
   "source": []
  }
 ],
 "metadata": {
  "kernelspec": {
   "display_name": "Python 3 (ipykernel)",
   "language": "python",
   "name": "python3"
  },
  "language_info": {
   "codemirror_mode": {
    "name": "ipython",
    "version": 3
   },
   "file_extension": ".py",
   "mimetype": "text/x-python",
   "name": "python",
   "nbconvert_exporter": "python",
   "pygments_lexer": "ipython3",
   "version": "3.9.6"
  }
 },
 "nbformat": 4,
 "nbformat_minor": 5
}
