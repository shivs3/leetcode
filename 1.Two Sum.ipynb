{
 "cells": [
  {
   "cell_type": "markdown",
   "id": "5e6a0db8-29a9-4be0-b68d-5ea9847bd2cb",
   "metadata": {},
   "source": [
    "Two Sum"
   ]
  },
  {
   "cell_type": "markdown",
   "id": "3d70a1f7-1a72-4d2b-b8e2-aa88b526067a",
   "metadata": {},
   "source": [
    "Given an array of integers nums and an integer target, return indices of the two numbers such that they add up to target.\n",
    "\n",
    "You may assume that each input would have exactly one solution, and you may not use the same element twice.\n",
    "\n",
    "You can return the answer in any order.\n",
    "\n",
    " \n",
    "\n",
    "Example 1:\n",
    "\n",
    "Input: nums = [2,7,11,15], target = 9\n",
    "Output: [0,1]\n",
    "Explanation: Because nums[0] + nums[1] == 9, we return [0, 1].\n",
    "Example 2:\n",
    "\n",
    "Input: nums = [3,2,4], target = 6\n",
    "Output: [1,2]\n",
    "Example 3:\n",
    "\n",
    "Input: nums = [3,3], target = 6\n",
    "Output: [0,1]\n"
   ]
  },
  {
   "cell_type": "code",
   "execution_count": 2,
   "id": "30f7f1b6-b8e5-4b12-8d4d-58132ba0c742",
   "metadata": {},
   "outputs": [],
   "source": [
    "def twoSum(nums,target):\n",
    "    numToIndex={}\n",
    "    for i, num in enumerate(nums):\n",
    "      if target - num in numToIndex:\n",
    "        return numToIndex[target - num], i\n",
    "      numToIndex[num] = i"
   ]
  },
  {
   "cell_type": "code",
   "execution_count": 3,
   "id": "d17b9bbd-4c00-4ca5-b164-b848201434fb",
   "metadata": {},
   "outputs": [],
   "source": [
    "nums=[2,7,11,15]\n",
    "target=9"
   ]
  },
  {
   "cell_type": "code",
   "execution_count": 5,
   "id": "501b6d6a-bf03-4e89-83c0-7919a7dc12be",
   "metadata": {},
   "outputs": [
    {
     "data": {
      "text/plain": [
       "(0, 1)"
      ]
     },
     "execution_count": 5,
     "metadata": {},
     "output_type": "execute_result"
    }
   ],
   "source": [
    "twoSum(nums,target)"
   ]
  },
  {
   "cell_type": "markdown",
   "id": "0733f8fe-302d-46f8-b9ee-76c581df3835",
   "metadata": {},
   "source": [
    "## Practice"
   ]
  },
  {
   "cell_type": "code",
   "execution_count": 1,
   "id": "9fb256a3-19f9-4a67-b874-5d3a6bdcc658",
   "metadata": {},
   "outputs": [],
   "source": [
    "nums=[2,7,11,15]\n",
    "target=9"
   ]
  },
  {
   "cell_type": "code",
   "execution_count": 2,
   "id": "579711b6-8b51-4662-adf0-4aab5d9be608",
   "metadata": {},
   "outputs": [],
   "source": [
    "data = {}"
   ]
  },
  {
   "cell_type": "code",
   "execution_count": 4,
   "id": "0f51d9c9-1821-4f48-9a6e-c9175027e7d5",
   "metadata": {},
   "outputs": [],
   "source": [
    "for i, num in enumerate(nums):\n",
    "    if (target-num) in data:\n",
    "        output = [data[target-num],i]\n",
    "    data[num]=i"
   ]
  },
  {
   "cell_type": "code",
   "execution_count": 5,
   "id": "38b0886d-1c87-4087-b59e-1937c55504ea",
   "metadata": {},
   "outputs": [
    {
     "data": {
      "text/plain": [
       "[0, 1]"
      ]
     },
     "execution_count": 5,
     "metadata": {},
     "output_type": "execute_result"
    }
   ],
   "source": [
    "output"
   ]
  },
  {
   "cell_type": "code",
   "execution_count": 10,
   "id": "329a1fa0-f401-4d70-9a9a-daf3594190ea",
   "metadata": {},
   "outputs": [],
   "source": [
    "def TwoSum(nums,target):\n",
    "    index_value = {}\n",
    "    for i, num in enumerate(nums):\n",
    "        if (target - num) in index_value:\n",
    "            return index_value[target-num],i\n",
    "        index_value[num]=i"
   ]
  },
  {
   "cell_type": "code",
   "execution_count": 11,
   "id": "dbd5407d-766b-4cd8-9d73-cf794a897e30",
   "metadata": {},
   "outputs": [
    {
     "data": {
      "text/plain": [
       "(0, 1)"
      ]
     },
     "execution_count": 11,
     "metadata": {},
     "output_type": "execute_result"
    }
   ],
   "source": [
    "TwoSum(nums, target)"
   ]
  },
  {
   "cell_type": "code",
   "execution_count": null,
   "id": "b65d0ee1-b29c-4730-8ce2-efe1c8e05621",
   "metadata": {},
   "outputs": [],
   "source": []
  }
 ],
 "metadata": {
  "kernelspec": {
   "display_name": "Python 3 (ipykernel)",
   "language": "python",
   "name": "python3"
  },
  "language_info": {
   "codemirror_mode": {
    "name": "ipython",
    "version": 3
   },
   "file_extension": ".py",
   "mimetype": "text/x-python",
   "name": "python",
   "nbconvert_exporter": "python",
   "pygments_lexer": "ipython3",
   "version": "3.9.6"
  }
 },
 "nbformat": 4,
 "nbformat_minor": 5
}
