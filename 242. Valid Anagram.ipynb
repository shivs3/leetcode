{
 "cells": [
  {
   "cell_type": "markdown",
   "id": "f821cb6a-f033-4175-b0bb-37b45c63196a",
   "metadata": {},
   "source": [
    "## Valid Anagram"
   ]
  },
  {
   "cell_type": "markdown",
   "id": "9b2a284a-216b-4338-a6c4-87a4bda61c95",
   "metadata": {},
   "source": [
    "Given two strings s and t, return true if t is an anagram of s, and false otherwise.\n",
    "\n",
    "An Anagram is a word or phrase formed by rearranging the letters of a different word or phrase, typically using all the original letters exactly once.\n"
   ]
  },
  {
   "cell_type": "markdown",
   "id": "fdb67331-f196-4d34-b652-7798bb8908c5",
   "metadata": {},
   "source": [
    "Example 1:\n",
    "\n",
    "Input: s = \"anagram\", t = \"nagaram\"\n",
    "Output: true\n"
   ]
  },
  {
   "cell_type": "markdown",
   "id": "87796221-e737-4d42-a09c-62182fb295d9",
   "metadata": {},
   "source": [
    "Example 2:\n",
    "\n",
    "Input: s = \"rat\", t = \"car\"\n",
    "Output: false\n"
   ]
  },
  {
   "cell_type": "markdown",
   "id": "cf311559-f67e-4f03-b32a-56c8178dd6a0",
   "metadata": {},
   "source": [
    "## Solution"
   ]
  },
  {
   "cell_type": "code",
   "execution_count": 1,
   "id": "1776573c-70b7-4ca6-be1f-e1f54209d954",
   "metadata": {},
   "outputs": [],
   "source": [
    "def isAnagram(s,t) :\n",
    "    x = ''.join(sorted(s))\n",
    "    y = ''.join(sorted(t))\n",
    "    if x == y:\n",
    "        return True\n",
    "    else:\n",
    "        return False"
   ]
  },
  {
   "cell_type": "code",
   "execution_count": 2,
   "id": "f81901d3-d232-45eb-ab82-9c0a8cb034d0",
   "metadata": {},
   "outputs": [],
   "source": [
    "s = \"anagram\"\n",
    "t = \"nagaram\""
   ]
  },
  {
   "cell_type": "code",
   "execution_count": 3,
   "id": "e3f51250-33f7-4096-9f77-389319f505b3",
   "metadata": {},
   "outputs": [
    {
     "data": {
      "text/plain": [
       "True"
      ]
     },
     "execution_count": 3,
     "metadata": {},
     "output_type": "execute_result"
    }
   ],
   "source": [
    "isAnagram(s,t)"
   ]
  },
  {
   "cell_type": "code",
   "execution_count": 3,
   "id": "6cab6c1a-00ec-44f2-8b2b-9289d210a6f3",
   "metadata": {},
   "outputs": [],
   "source": [
    "s='anagram'"
   ]
  },
  {
   "cell_type": "code",
   "execution_count": 4,
   "id": "5de88319",
   "metadata": {},
   "outputs": [
    {
     "data": {
      "text/plain": [
       "['a', 'a', 'a', 'g', 'm', 'n', 'r']"
      ]
     },
     "execution_count": 4,
     "metadata": {},
     "output_type": "execute_result"
    }
   ],
   "source": [
    "sorted(s)"
   ]
  },
  {
   "cell_type": "code",
   "execution_count": 5,
   "id": "93fa7208",
   "metadata": {},
   "outputs": [
    {
     "data": {
      "text/plain": [
       "'a a a g m n r'"
      ]
     },
     "execution_count": 5,
     "metadata": {},
     "output_type": "execute_result"
    }
   ],
   "source": [
    "' '.join(sorted(s))"
   ]
  },
  {
   "cell_type": "code",
   "execution_count": null,
   "id": "725dcef1",
   "metadata": {},
   "outputs": [],
   "source": []
  }
 ],
 "metadata": {
  "kernelspec": {
   "display_name": "Python 3",
   "language": "python",
   "name": "python3"
  },
  "language_info": {
   "codemirror_mode": {
    "name": "ipython",
    "version": 3
   },
   "file_extension": ".py",
   "mimetype": "text/x-python",
   "name": "python",
   "nbconvert_exporter": "python",
   "pygments_lexer": "ipython3",
   "version": "3.9.6"
  }
 },
 "nbformat": 4,
 "nbformat_minor": 5
}
