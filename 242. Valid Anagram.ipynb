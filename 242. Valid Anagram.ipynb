{
 "cells": [
  {
   "cell_type": "markdown",
   "id": "f821cb6a-f033-4175-b0bb-37b45c63196a",
   "metadata": {},
   "source": [
    "## Valid Anagram"
   ]
  },
  {
   "cell_type": "markdown",
   "id": "9b2a284a-216b-4338-a6c4-87a4bda61c95",
   "metadata": {},
   "source": [
    "Given two strings s and t, return true if t is an anagram of s, and false otherwise.\n",
    "\n",
    "An Anagram is a word or phrase formed by rearranging the letters of a different word or phrase, typically using all the original letters exactly once.\n"
   ]
  },
  {
   "cell_type": "markdown",
   "id": "fdb67331-f196-4d34-b652-7798bb8908c5",
   "metadata": {},
   "source": [
    "Example 1:\n",
    "\n",
    "Input: s = \"anagram\", t = \"nagaram\"\n",
    "Output: true\n"
   ]
  },
  {
   "cell_type": "markdown",
   "id": "87796221-e737-4d42-a09c-62182fb295d9",
   "metadata": {},
   "source": [
    "Example 2:\n",
    "\n",
    "Input: s = \"rat\", t = \"car\"\n",
    "Output: false\n"
   ]
  },
  {
   "cell_type": "markdown",
   "id": "cf311559-f67e-4f03-b32a-56c8178dd6a0",
   "metadata": {},
   "source": [
    "## Solution 1\n"
   ]
  },
  {
   "cell_type": "code",
   "execution_count": 1,
   "id": "1776573c-70b7-4ca6-be1f-e1f54209d954",
   "metadata": {},
   "outputs": [],
   "source": [
    "def isAnagram(s,t) :\n",
    "    x = ''.join(sorted(s))\n",
    "    y = ''.join(sorted(t))\n",
    "    if x == y:\n",
    "        return True\n",
    "    else:\n",
    "        return False"
   ]
  },
  {
   "cell_type": "code",
   "execution_count": 2,
   "id": "f81901d3-d232-45eb-ab82-9c0a8cb034d0",
   "metadata": {},
   "outputs": [],
   "source": [
    "s = \"anagram\"\n",
    "t = \"nagaram\""
   ]
  },
  {
   "cell_type": "code",
   "execution_count": 3,
   "id": "e3f51250-33f7-4096-9f77-389319f505b3",
   "metadata": {},
   "outputs": [
    {
     "data": {
      "text/plain": [
       "True"
      ]
     },
     "execution_count": 3,
     "metadata": {},
     "output_type": "execute_result"
    }
   ],
   "source": [
    "isAnagram(s,t)"
   ]
  },
  {
   "cell_type": "code",
   "execution_count": 3,
   "id": "6cab6c1a-00ec-44f2-8b2b-9289d210a6f3",
   "metadata": {},
   "outputs": [],
   "source": [
    "s='anagram'"
   ]
  },
  {
   "cell_type": "code",
   "execution_count": 4,
   "id": "5de88319",
   "metadata": {},
   "outputs": [
    {
     "data": {
      "text/plain": [
       "['a', 'a', 'a', 'g', 'm', 'n', 'r']"
      ]
     },
     "execution_count": 4,
     "metadata": {},
     "output_type": "execute_result"
    }
   ],
   "source": [
    "sorted(s)"
   ]
  },
  {
   "cell_type": "code",
   "execution_count": 5,
   "id": "93fa7208",
   "metadata": {},
   "outputs": [
    {
     "data": {
      "text/plain": [
       "'a a a g m n r'"
      ]
     },
     "execution_count": 5,
     "metadata": {},
     "output_type": "execute_result"
    }
   ],
   "source": [
    "' '.join(sorted(s))"
   ]
  },
  {
   "cell_type": "markdown",
   "id": "4cc8b8d0-5149-49a9-aaee-2dd5153faca8",
   "metadata": {},
   "source": [
    "## Solution 2"
   ]
  },
  {
   "cell_type": "code",
   "execution_count": 1,
   "id": "8a772da7-ddab-4346-9941-ff1664e9ff78",
   "metadata": {},
   "outputs": [
    {
     "data": {
      "text/plain": [
       "97"
      ]
     },
     "execution_count": 1,
     "metadata": {},
     "output_type": "execute_result"
    }
   ],
   "source": [
    "ord('a')"
   ]
  },
  {
   "cell_type": "code",
   "execution_count": 2,
   "id": "9b7aadcf-e3bf-4845-a61b-2db9b2f1604d",
   "metadata": {},
   "outputs": [
    {
     "data": {
      "text/plain": [
       "65"
      ]
     },
     "execution_count": 2,
     "metadata": {},
     "output_type": "execute_result"
    }
   ],
   "source": [
    "ord('A')"
   ]
  },
  {
   "cell_type": "code",
   "execution_count": 12,
   "id": "92174f3a-89e0-470f-a832-edd283b7f738",
   "metadata": {},
   "outputs": [],
   "source": [
    "s = \"anagram\"\n",
    "t = \"nagaram\""
   ]
  },
  {
   "cell_type": "code",
   "execution_count": 4,
   "id": "f7505f34-f116-4c4e-97b2-849e22a4f461",
   "metadata": {},
   "outputs": [],
   "source": [
    "count = [0]*26"
   ]
  },
  {
   "cell_type": "code",
   "execution_count": 5,
   "id": "98acd932-02f8-4a4e-8962-45aa7b70f612",
   "metadata": {},
   "outputs": [
    {
     "data": {
      "text/plain": [
       "[0, 0, 0, 0, 0, 0, 0, 0, 0, 0, 0, 0, 0, 0, 0, 0, 0, 0, 0, 0, 0, 0, 0, 0, 0, 0]"
      ]
     },
     "execution_count": 5,
     "metadata": {},
     "output_type": "execute_result"
    }
   ],
   "source": [
    "count"
   ]
  },
  {
   "cell_type": "code",
   "execution_count": 6,
   "id": "6d36085f-b025-4a51-b36c-9def6e499d35",
   "metadata": {},
   "outputs": [],
   "source": [
    "for i in s:\n",
    "    count[ord(i)-ord('a')]+=1"
   ]
  },
  {
   "cell_type": "code",
   "execution_count": 7,
   "id": "74278b53-597a-4e19-b7d4-1d7ea4a89ad2",
   "metadata": {},
   "outputs": [
    {
     "data": {
      "text/plain": [
       "[3, 0, 0, 0, 0, 0, 1, 0, 0, 0, 0, 0, 1, 1, 0, 0, 0, 1, 0, 0, 0, 0, 0, 0, 0, 0]"
      ]
     },
     "execution_count": 7,
     "metadata": {},
     "output_type": "execute_result"
    }
   ],
   "source": [
    "count"
   ]
  },
  {
   "cell_type": "code",
   "execution_count": 8,
   "id": "d6ce9ee1-ea90-4022-81e6-f9d99a2deb2e",
   "metadata": {},
   "outputs": [],
   "source": [
    "for i in t:\n",
    "    count[ord(i)- ord('a')]-=1"
   ]
  },
  {
   "cell_type": "code",
   "execution_count": 9,
   "id": "51289e1c-3c06-427a-99a5-668d83777044",
   "metadata": {},
   "outputs": [
    {
     "data": {
      "text/plain": [
       "[0, 0, 0, 0, 0, 0, 0, 0, 0, 0, 0, 0, 0, 0, 0, 0, 0, 0, 0, 0, 0, 0, 0, 0, 0, 0]"
      ]
     },
     "execution_count": 9,
     "metadata": {},
     "output_type": "execute_result"
    }
   ],
   "source": [
    "count"
   ]
  },
  {
   "cell_type": "code",
   "execution_count": 14,
   "id": "f486a785-1f0d-487a-84c7-2468f44e8d76",
   "metadata": {},
   "outputs": [],
   "source": [
    "# define function\n",
    "def is_anagram(s,t):\n",
    "    count=[0]*26\n",
    "    for i in s:\n",
    "        count[ord(i)-ord('a')]+=1\n",
    "    for i in t:\n",
    "        count[ord(i)-ord('a')]-=1\n",
    "    for i in count:\n",
    "        if i!=0:\n",
    "            return False\n",
    "    return True"
   ]
  },
  {
   "cell_type": "code",
   "execution_count": 15,
   "id": "0f4a1d23-93d0-47a0-8927-149d3cad7c22",
   "metadata": {},
   "outputs": [
    {
     "data": {
      "text/plain": [
       "True"
      ]
     },
     "execution_count": 15,
     "metadata": {},
     "output_type": "execute_result"
    }
   ],
   "source": [
    "is_anagram(s,t)"
   ]
  },
  {
   "cell_type": "code",
   "execution_count": null,
   "id": "36ff5c9e-cdcd-4031-aab8-b104dbfa420d",
   "metadata": {},
   "outputs": [],
   "source": []
  }
 ],
 "metadata": {
  "kernelspec": {
   "display_name": "Python 3 (ipykernel)",
   "language": "python",
   "name": "python3"
  },
  "language_info": {
   "codemirror_mode": {
    "name": "ipython",
    "version": 3
   },
   "file_extension": ".py",
   "mimetype": "text/x-python",
   "name": "python",
   "nbconvert_exporter": "python",
   "pygments_lexer": "ipython3",
   "version": "3.9.6"
  }
 },
 "nbformat": 4,
 "nbformat_minor": 5
}
