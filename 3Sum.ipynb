{
 "cells": [
  {
   "cell_type": "markdown",
   "id": "033d0a77-f695-45cd-b1de-3796f9bc91f0",
   "metadata": {},
   "source": [
    "# 3 SUM"
   ]
  },
  {
   "cell_type": "raw",
   "id": "3e3cc7c5-1d85-42d3-b198-279b14a0edb5",
   "metadata": {},
   "source": [
    "Given an integer array nums, return all the triplets [nums[i], nums[j], nums[k]] such that i != j, i != k, and j != k, and nums[i] + nums[j] + nums[k] == 0.\n",
    "\n",
    "Notice that the solution set must not contain duplicate triplets.\n",
    "\n",
    " \n",
    "\n",
    "Example 1:\n",
    "\n",
    "Input: nums = [-1,0,1,2,-1,-4]\n",
    "Output: [[-1,-1,2],[-1,0,1]]\n",
    "Explanation: \n",
    "nums[0] + nums[1] + nums[2] = (-1) + 0 + 1 = 0.\n",
    "nums[1] + nums[2] + nums[4] = 0 + 1 + (-1) = 0.\n",
    "nums[0] + nums[3] + nums[4] = (-1) + 2 + (-1) = 0.\n",
    "The distinct triplets are [-1,0,1] and [-1,-1,2].\n",
    "Notice that the order of the output and the order of the triplets does not matter.\n",
    "Example 2:\n",
    "\n",
    "Input: nums = [0,1,1]\n",
    "Output: []\n",
    "Explanation: The only possible triplet does not sum up to 0.\n",
    "Example 3:\n",
    "\n",
    "Input: nums = [0,0,0]\n",
    "Output: [[0,0,0]]\n",
    "Explanation: The only possible triplet sums up to 0.\n",
    " \n",
    "\n",
    "Constraints:\n",
    "\n",
    "3 <= nums.length <= 3000\n",
    "-105 <= nums[i] <= 105"
   ]
  },
  {
   "cell_type": "code",
   "execution_count": 2,
   "id": "3f339410-25c7-4d39-b2fb-3420a32e1531",
   "metadata": {},
   "outputs": [],
   "source": [
    "def ThreeSum(nums):\n",
    "    res = []\n",
    "    nums.sort()\n",
    "    for i, num in enumerate(nums):\n",
    "        if i>0 and nums[i]==nums[i-1]:\n",
    "            continue\n",
    "\n",
    "        l, r = i+1, len(nums)-1\n",
    "\n",
    "        while l<r:\n",
    "            sums = num+nums[l]+nums[r]\n",
    "            if sums<0:\n",
    "                l+=1\n",
    "            elif sums>0:\n",
    "                r-=1\n",
    "            else:\n",
    "                res.append([nums[i],nums[l],nums[r]])\n",
    "                l+=1\n",
    "                while nums[l]==nums[l-1] and l<r:\n",
    "                    l+=1\n",
    "\n",
    "    return res"
   ]
  },
  {
   "cell_type": "code",
   "execution_count": 3,
   "id": "4a55cae4-9c43-4ab5-a4ef-c00b8d75c2ee",
   "metadata": {},
   "outputs": [],
   "source": [
    "nums = [-1,0,1,2,-1,-4]"
   ]
  },
  {
   "cell_type": "code",
   "execution_count": 4,
   "id": "6997f5fd-3167-4869-8b01-6d0122788e69",
   "metadata": {},
   "outputs": [
    {
     "data": {
      "text/plain": [
       "[[-1, -1, 2], [-1, 0, 1]]"
      ]
     },
     "execution_count": 4,
     "metadata": {},
     "output_type": "execute_result"
    }
   ],
   "source": [
    "ThreeSum(nums)"
   ]
  },
  {
   "cell_type": "code",
   "execution_count": 5,
   "id": "bb2e7a80-990a-4c5e-8a9b-7028cb04d24e",
   "metadata": {},
   "outputs": [],
   "source": [
    "nums = [0,1,1]"
   ]
  },
  {
   "cell_type": "code",
   "execution_count": 6,
   "id": "ebccdd05-46c9-4701-81e6-c77f88736581",
   "metadata": {},
   "outputs": [
    {
     "data": {
      "text/plain": [
       "[]"
      ]
     },
     "execution_count": 6,
     "metadata": {},
     "output_type": "execute_result"
    }
   ],
   "source": [
    "ThreeSum(nums)"
   ]
  },
  {
   "cell_type": "code",
   "execution_count": null,
   "id": "c8c09654-a475-468e-8915-4ff812c4b95f",
   "metadata": {},
   "outputs": [],
   "source": []
  }
 ],
 "metadata": {
  "kernelspec": {
   "display_name": "Python 3 (ipykernel)",
   "language": "python",
   "name": "python3"
  },
  "language_info": {
   "codemirror_mode": {
    "name": "ipython",
    "version": 3
   },
   "file_extension": ".py",
   "mimetype": "text/x-python",
   "name": "python",
   "nbconvert_exporter": "python",
   "pygments_lexer": "ipython3",
   "version": "3.9.6"
  }
 },
 "nbformat": 4,
 "nbformat_minor": 5
}
