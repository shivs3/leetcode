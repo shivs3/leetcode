{
 "cells": [
  {
   "cell_type": "markdown",
   "id": "85634e00-0b7b-4269-853f-7ddab69a3f3e",
   "metadata": {},
   "source": [
    "# Binary Tree Level Order Traversal"
   ]
  },
  {
   "cell_type": "raw",
   "id": "b2ad07c3-777d-4220-a579-7a1ac3d04ddb",
   "metadata": {},
   "source": [
    "Given the root of a binary tree, return the level order traversal of its nodes' values. (i.e., from left to right, level by level).\n",
    "\n",
    " \n",
    "\n",
    "Example 1:\n",
    "\n",
    "\n",
    "Input: root = [3,9,20,null,null,15,7]\n",
    "Output: [[3],[9,20],[15,7]]\n",
    "Example 2:\n",
    "\n",
    "Input: root = [1]\n",
    "Output: [[1]]\n",
    "Example 3:\n",
    "\n",
    "Input: root = []\n",
    "Output: []\n",
    " \n",
    "\n",
    "Constraints:\n",
    "\n",
    "The number of nodes in the tree is in the range [0, 2000].\n",
    "-1000 <= Node.val <= 1000"
   ]
  },
  {
   "cell_type": "code",
   "execution_count": 2,
   "id": "8a9a00ea-7296-4f5f-9a5e-38cd096dbb2b",
   "metadata": {},
   "outputs": [],
   "source": [
    "# Definition for a binary tree node.\n",
    "class TreeNode:\n",
    "    def __init__(self, val=0, left=None, right=None):\n",
    "        self.val = val\n",
    "        self.left = left\n",
    "        self.right = right\n",
    "class Solution:\n",
    "    def levelOrder(self, root: TreeNode) :\n",
    "        if not root:\n",
    "            return []\n",
    "    \n",
    "        result = []\n",
    "        queue = deque([root])  # Initialize queue with the root node\n",
    "        \n",
    "        while queue:\n",
    "            level = []  # List to hold values of nodes at the current level\n",
    "            level_size = len(queue)  # Number of nodes at the current level\n",
    "            \n",
    "            for _ in range(level_size):\n",
    "                node = queue.popleft()  # Dequeue a node\n",
    "                level.append(node.val)  # Add the node's value to the current level list\n",
    "                \n",
    "                # Enqueue the left and right children if they exist\n",
    "                if node.left:\n",
    "                    queue.append(node.left)\n",
    "                if node.right:\n",
    "                    queue.append(node.right)\n",
    "            \n",
    "            result.append(level)  # Add the current level list to the result\n",
    "        \n",
    "        return result\n",
    "\n"
   ]
  },
  {
   "cell_type": "code",
   "execution_count": null,
   "id": "27aadfdd-9b41-4f56-8041-4ba990067563",
   "metadata": {},
   "outputs": [],
   "source": []
  }
 ],
 "metadata": {
  "kernelspec": {
   "display_name": "Python 3 (ipykernel)",
   "language": "python",
   "name": "python3"
  },
  "language_info": {
   "codemirror_mode": {
    "name": "ipython",
    "version": 3
   },
   "file_extension": ".py",
   "mimetype": "text/x-python",
   "name": "python",
   "nbconvert_exporter": "python",
   "pygments_lexer": "ipython3",
   "version": "3.9.6"
  }
 },
 "nbformat": 4,
 "nbformat_minor": 5
}
