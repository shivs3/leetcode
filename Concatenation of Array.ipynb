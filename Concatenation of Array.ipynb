{
 "cells": [
  {
   "cell_type": "markdown",
   "id": "a06078ec-591f-4748-9f92-da3be794d9b7",
   "metadata": {},
   "source": [
    "# Concatenation of Array"
   ]
  },
  {
   "cell_type": "raw",
   "id": "6c637bac-b555-48a6-977f-2bbc275c10f4",
   "metadata": {},
   "source": [
    "Given an integer array nums of length n, you want to create an array ans of length 2n where ans[i] == nums[i] and ans[i + n] == nums[i] for 0 <= i < n (0-indexed).\n",
    "\n",
    "Specifically, ans is the concatenation of two nums arrays.\n",
    "\n",
    "Return the array ans.\n",
    "\n",
    " \n",
    "\n",
    "Example 1:\n",
    "\n",
    "Input: nums = [1,2,1]\n",
    "Output: [1,2,1,1,2,1]\n",
    "Explanation: The array ans is formed as follows:\n",
    "- ans = [nums[0],nums[1],nums[2],nums[0],nums[1],nums[2]]\n",
    "- ans = [1,2,1,1,2,1]\n",
    "Example 2:\n",
    "\n",
    "Input: nums = [1,3,2,1]\n",
    "Output: [1,3,2,1,1,3,2,1]\n",
    "Explanation: The array ans is formed as follows:\n",
    "- ans = [nums[0],nums[1],nums[2],nums[3],nums[0],nums[1],nums[2],nums[3]]\n",
    "- ans = [1,3,2,1,1,3,2,1]\n",
    " \n",
    "\n",
    "Constraints:\n",
    "\n",
    "n == nums.length\n",
    "1 <= n <= 1000\n",
    "1 <= nums[i] <= 1000\n"
   ]
  },
  {
   "cell_type": "code",
   "execution_count": 37,
   "id": "121cf9f8-5cbb-42ac-b70c-920e0fab868a",
   "metadata": {},
   "outputs": [],
   "source": [
    "nums = [1,2,1]"
   ]
  },
  {
   "cell_type": "code",
   "execution_count": 23,
   "id": "5a999451-e290-4855-b102-92adbd46380a",
   "metadata": {},
   "outputs": [],
   "source": [
    "num2 = nums + nums"
   ]
  },
  {
   "cell_type": "code",
   "execution_count": 24,
   "id": "ea6dd3e7-ebfe-4b59-ae77-4a360237a847",
   "metadata": {},
   "outputs": [
    {
     "data": {
      "text/plain": [
       "[1, 2, 1, 1, 2, 1]"
      ]
     },
     "execution_count": 24,
     "metadata": {},
     "output_type": "execute_result"
    }
   ],
   "source": [
    "num2"
   ]
  },
  {
   "cell_type": "code",
   "execution_count": 25,
   "id": "baaad2f1-e363-420f-8e35-45ac3f2a168a",
   "metadata": {},
   "outputs": [],
   "source": [
    "#Solution 1\n",
    "def concatenate(nums):\n",
    "    return nums+nums"
   ]
  },
  {
   "cell_type": "code",
   "execution_count": 26,
   "id": "88dd450d-852a-4228-a35f-f37398a09a97",
   "metadata": {},
   "outputs": [],
   "source": [
    "#Solution2\n",
    "def concatenate1(nums):\n",
    "    return nums*2"
   ]
  },
  {
   "cell_type": "code",
   "execution_count": 27,
   "id": "5e56bcaf-c4cc-4f38-88fb-51a65976450f",
   "metadata": {},
   "outputs": [],
   "source": [
    "#Solution 3\n",
    "def concatenate2(nums):\n",
    "    nums.extend(nums)\n",
    "    return nums"
   ]
  },
  {
   "cell_type": "code",
   "execution_count": 35,
   "id": "792ea63a-18db-4e01-88fa-e7372faaefea",
   "metadata": {},
   "outputs": [],
   "source": [
    "#Solution 4\n",
    "def concatenate3(nums):\n",
    "    length = len(nums)\n",
    "    for i in range(length):\n",
    "        nums.append(nums[i])\n",
    "    return nums"
   ]
  },
  {
   "cell_type": "code",
   "execution_count": 29,
   "id": "030d5466-0c3e-4872-a67f-17dd877d8622",
   "metadata": {},
   "outputs": [
    {
     "data": {
      "text/plain": [
       "[1, 2, 1, 1, 2, 1]"
      ]
     },
     "execution_count": 29,
     "metadata": {},
     "output_type": "execute_result"
    }
   ],
   "source": [
    "concatenate(nums)"
   ]
  },
  {
   "cell_type": "code",
   "execution_count": 30,
   "id": "d1fc1fd6-59fb-4326-a997-fef9c67bda31",
   "metadata": {},
   "outputs": [
    {
     "data": {
      "text/plain": [
       "[1, 2, 1, 1, 2, 1]"
      ]
     },
     "execution_count": 30,
     "metadata": {},
     "output_type": "execute_result"
    }
   ],
   "source": [
    "concatenate1(nums)"
   ]
  },
  {
   "cell_type": "code",
   "execution_count": 31,
   "id": "f8c2adb3-fcb3-4fe0-980a-fbb606f07c04",
   "metadata": {},
   "outputs": [
    {
     "name": "stdout",
     "output_type": "stream",
     "text": [
      "[1, 2, 1, 1, 2, 1]\n"
     ]
    }
   ],
   "source": [
    "print(concatenate2(nums))"
   ]
  },
  {
   "cell_type": "code",
   "execution_count": 38,
   "id": "bae644d2-d3b4-4228-ab7e-04a51fb25573",
   "metadata": {},
   "outputs": [
    {
     "data": {
      "text/plain": [
       "[1, 2, 1, 1, 2, 1]"
      ]
     },
     "execution_count": 38,
     "metadata": {},
     "output_type": "execute_result"
    }
   ],
   "source": [
    "concatenate3(nums)"
   ]
  },
  {
   "cell_type": "code",
   "execution_count": 18,
   "id": "67e5dabf-8299-46b2-9d49-32219b654eca",
   "metadata": {},
   "outputs": [],
   "source": []
  },
  {
   "cell_type": "code",
   "execution_count": 19,
   "id": "1056fb8e-fb5b-41ad-a7b5-b9cf3678df35",
   "metadata": {},
   "outputs": [
    {
     "data": {
      "text/plain": [
       "[1, 2, 3, 1, 2, 3]"
      ]
     },
     "execution_count": 19,
     "metadata": {},
     "output_type": "execute_result"
    }
   ],
   "source": []
  },
  {
   "cell_type": "code",
   "execution_count": null,
   "id": "f1b558d0-a895-4804-98a8-7893d0d9a5ae",
   "metadata": {},
   "outputs": [],
   "source": []
  }
 ],
 "metadata": {
  "kernelspec": {
   "display_name": "Python 3 (ipykernel)",
   "language": "python",
   "name": "python3"
  },
  "language_info": {
   "codemirror_mode": {
    "name": "ipython",
    "version": 3
   },
   "file_extension": ".py",
   "mimetype": "text/x-python",
   "name": "python",
   "nbconvert_exporter": "python",
   "pygments_lexer": "ipython3",
   "version": "3.9.6"
  }
 },
 "nbformat": 4,
 "nbformat_minor": 5
}
