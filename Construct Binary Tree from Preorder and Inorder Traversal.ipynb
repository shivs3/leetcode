{
 "cells": [
  {
   "cell_type": "markdown",
   "id": "9aedd4ce-76d9-4e4e-8f54-ab8eb7856a24",
   "metadata": {},
   "source": [
    "# Construct Binary Tree from Preorder and Inorder Traversal"
   ]
  },
  {
   "cell_type": "raw",
   "id": "ab9131d9-b723-4f24-94ff-36f564945636",
   "metadata": {},
   "source": [
    "Given two integer arrays preorder and inorder where preorder is the preorder traversal of a binary tree and inorder is the inorder traversal of the same tree, construct and return the binary tree.\n",
    "\n",
    " \n",
    "\n",
    "Example 1:\n",
    "\n",
    "\n",
    "Input: preorder = [3,9,20,15,7], inorder = [9,3,15,20,7]\n",
    "Output: [3,9,20,null,null,15,7]\n",
    "Example 2:\n",
    "\n",
    "Input: preorder = [-1], inorder = [-1]\n",
    "Output: [-1]\n",
    " \n",
    "\n",
    "Constraints:\n",
    "\n",
    "1 <= preorder.length <= 3000\n",
    "inorder.length == preorder.length\n",
    "-3000 <= preorder[i], inorder[i] <= 3000\n",
    "preorder and inorder consist of unique values.\n",
    "Each value of inorder also appears in preorder.\n",
    "preorder is guaranteed to be the preorder traversal of the tree.\n",
    "inorder is guaranteed to be the inorder traversal of the tree."
   ]
  },
  {
   "cell_type": "code",
   "execution_count": 1,
   "id": "7169ba28-be8c-4c98-80d8-6d4e75fce046",
   "metadata": {},
   "outputs": [],
   "source": [
    "# Definition for a binary tree node.\n",
    "class TreeNode:\n",
    "    def __init__(self, val=0, left=None, right=None):\n",
    "        self.val = val\n",
    "        self.left = left\n",
    "        self.right = right\n"
   ]
  },
  {
   "cell_type": "code",
   "execution_count": 4,
   "id": "2ba17cc6-2427-4586-abb5-cc7d16902180",
   "metadata": {},
   "outputs": [],
   "source": [
    "class Solution:\n",
    "    def buildTree(self, preorder, inorder ):\n",
    "        if not preorder or not inorder:\n",
    "            return None\n",
    "        \n",
    "        root = TreeNode(preorder[0])\n",
    "        mid = inorder.index(preorder[0])\n",
    "        root.left = self.buildTree(preorder[1:mid+1], inorder[:mid])\n",
    "        root.right = self.buildTree(preorder[mid+1:],inorder[mid+1:])\n",
    "        return root"
   ]
  },
  {
   "cell_type": "code",
   "execution_count": null,
   "id": "13734bf4-9b4e-40a4-aa9b-c794611a7d1a",
   "metadata": {},
   "outputs": [],
   "source": []
  }
 ],
 "metadata": {
  "kernelspec": {
   "display_name": "Python 3 (ipykernel)",
   "language": "python",
   "name": "python3"
  },
  "language_info": {
   "codemirror_mode": {
    "name": "ipython",
    "version": 3
   },
   "file_extension": ".py",
   "mimetype": "text/x-python",
   "name": "python",
   "nbconvert_exporter": "python",
   "pygments_lexer": "ipython3",
   "version": "3.9.6"
  }
 },
 "nbformat": 4,
 "nbformat_minor": 5
}
