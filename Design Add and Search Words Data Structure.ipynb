{
 "cells": [
  {
   "cell_type": "markdown",
   "id": "ea954144-9663-465c-9967-f0811dad91e3",
   "metadata": {},
   "source": [
    "# Design Add and Search Words Data Structure"
   ]
  },
  {
   "cell_type": "raw",
   "id": "680e0b12-c65f-459e-8685-d224f52253ab",
   "metadata": {},
   "source": [
    "Design a data structure that supports adding new words and finding if a string matches any previously added string.\n",
    "\n",
    "Implement the WordDictionary class:\n",
    "\n",
    "WordDictionary() Initializes the object.\n",
    "void addWord(word) Adds word to the data structure, it can be matched later.\n",
    "bool search(word) Returns true if there is any string in the data structure that matches word or false otherwise. word may contain dots '.' where dots can be matched with any letter.\n",
    " \n",
    "\n",
    "Example:\n",
    "\n",
    "Input\n",
    "[\"WordDictionary\",\"addWord\",\"addWord\",\"addWord\",\"search\",\"search\",\"search\",\"search\"]\n",
    "[[],[\"bad\"],[\"dad\"],[\"mad\"],[\"pad\"],[\"bad\"],[\".ad\"],[\"b..\"]]\n",
    "Output\n",
    "[null,null,null,null,false,true,true,true]\n",
    "\n",
    "Explanation\n",
    "WordDictionary wordDictionary = new WordDictionary();\n",
    "wordDictionary.addWord(\"bad\");\n",
    "wordDictionary.addWord(\"dad\");\n",
    "wordDictionary.addWord(\"mad\");\n",
    "wordDictionary.search(\"pad\"); // return False\n",
    "wordDictionary.search(\"bad\"); // return True\n",
    "wordDictionary.search(\".ad\"); // return True\n",
    "wordDictionary.search(\"b..\"); // return True\n",
    " \n",
    "\n",
    "Constraints:\n",
    "\n",
    "1 <= word.length <= 25\n",
    "word in addWord consists of lowercase English letters.\n",
    "word in search consist of '.' or lowercase English letters.\n",
    "There will be at most 2 dots in word for search queries.\n",
    "At most 104 calls will be made to addWord and search."
   ]
  },
  {
   "cell_type": "markdown",
   "id": "181ea8dd-bfdb-4731-b51c-f9cac99e1297",
   "metadata": {},
   "source": [
    "## Define TrieNode"
   ]
  },
  {
   "cell_type": "code",
   "execution_count": 1,
   "id": "49c53cf0-fadb-413b-8593-298ba4d2865b",
   "metadata": {},
   "outputs": [],
   "source": [
    "class TrieNode:\n",
    "    def __init__(self):\n",
    "        self.children = {}\n",
    "        self.endOfWord = False"
   ]
  },
  {
   "cell_type": "code",
   "execution_count": 3,
   "id": "ce4ae968-9da6-4b33-9909-8d6d689fcb24",
   "metadata": {},
   "outputs": [],
   "source": [
    "# Solution\n",
    "class WordDictionary:\n",
    "    def __init__(self):\n",
    "        self.root = TrieNode()\n",
    "\n",
    "    def addWord(word):\n",
    "        cur = self.root\n",
    "        for c in word:\n",
    "            if c not in cur.children:\n",
    "                cur.children[c] = TrieNode\n",
    "            cur = cur.children[c]\n",
    "        cur.endOfWord = True\n",
    "\n",
    "    def search(word):\n",
    "\n",
    "        #Define dfs\n",
    "        def dfs(j, root):\n",
    "\n",
    "            for i in range(j, len(word)):\n",
    "                c = word[i]\n",
    "                if c == '.':\n",
    "                    for child in cur.children.values():\n",
    "                        if dfs(j+1, child):\n",
    "                            return True\n",
    "                    return False\n",
    "                else:\n",
    "                    if c not in cur.children:\n",
    "                        return False\n",
    "                    cur = cur.children[c]\n",
    "            return cur.endOfWord\n",
    "\n",
    "        return dfs(0, self.root)"
   ]
  },
  {
   "cell_type": "code",
   "execution_count": null,
   "id": "c36b2cb4-568d-4bcc-a3db-cb94da02071f",
   "metadata": {},
   "outputs": [],
   "source": []
  }
 ],
 "metadata": {
  "kernelspec": {
   "display_name": "Python 3 (ipykernel)",
   "language": "python",
   "name": "python3"
  },
  "language_info": {
   "codemirror_mode": {
    "name": "ipython",
    "version": 3
   },
   "file_extension": ".py",
   "mimetype": "text/x-python",
   "name": "python",
   "nbconvert_exporter": "python",
   "pygments_lexer": "ipython3",
   "version": "3.9.6"
  }
 },
 "nbformat": 4,
 "nbformat_minor": 5
}
