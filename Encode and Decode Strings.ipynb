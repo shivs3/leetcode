{
 "cells": [
  {
   "cell_type": "markdown",
   "id": "87c1c57f-263e-494e-94e7-2192b45aad1a",
   "metadata": {},
   "source": [
    "# Encode and Decode Strings"
   ]
  },
  {
   "cell_type": "raw",
   "id": "3e668d9c-b852-4388-9fbf-d7cd43de0492",
   "metadata": {},
   "source": [
    "Description\n",
    "Design an algorithm to encode a list of strings to a single string. The encoded string is then decoded back to the original list of strings.\n",
    "\n",
    "Please implement encode and decode\n",
    "\n",
    "Example 1:\n",
    "\n",
    "Input: [\"neet\",\"code\",\"love\",\"you\"]\n",
    "\n",
    "Output:[\"neet\",\"code\",\"love\",\"you\"]\n",
    "Example 2:\n",
    "\n",
    "Input: [\"we\",\"say\",\":\",\"yes\"]\n",
    "\n",
    "Output: [\"we\",\"say\",\":\",\"yes\"]\n",
    "Constraints:\n",
    "\n",
    "0 <= strs.length < 100\n",
    "0 <= strs[i].length < 200\n",
    "strs[i] contains only UTF-8 characters.\n"
   ]
  },
  {
   "cell_type": "code",
   "execution_count": 3,
   "id": "973e1fda-e884-4ecb-9f7a-befc06fc855b",
   "metadata": {},
   "outputs": [],
   "source": [
    "def encode(strs):\n",
    "    if not strs:\n",
    "        return \"\"\n",
    "    sizes, res = [], \"\"\n",
    "    for s in strs:\n",
    "        sizes.append(len(s))\n",
    "    for sz in sizes:\n",
    "        res += str(sz)\n",
    "        res += ','\n",
    "    res += '#'\n",
    "    for s in strs:\n",
    "        res += s\n",
    "    return res"
   ]
  },
  {
   "cell_type": "code",
   "execution_count": 4,
   "id": "005af9c3-9835-43ef-9e64-9d144c7156b1",
   "metadata": {},
   "outputs": [],
   "source": [
    "def decode(s):\n",
    "    if not s:\n",
    "        return []\n",
    "    sizes, res, i = [], [], 0\n",
    "    while s[i] != '#':\n",
    "        cur = \"\"\n",
    "        while s[i] != ',':\n",
    "            cur += s[i]\n",
    "            i += 1\n",
    "        sizes.append(int(cur))\n",
    "        i += 1\n",
    "    i += 1\n",
    "    for sz in sizes:\n",
    "        res.append(s[i:i + sz])\n",
    "        i += sz\n",
    "    return res"
   ]
  },
  {
   "cell_type": "code",
   "execution_count": 5,
   "id": "11f4a512-c793-46d8-8849-91c6684f949a",
   "metadata": {},
   "outputs": [],
   "source": [
    "strs = [\"neet\",\"code\",\"love\",\"you\"]"
   ]
  },
  {
   "cell_type": "code",
   "execution_count": 6,
   "id": "24799eea-84cd-481d-887b-b327be457efb",
   "metadata": {},
   "outputs": [],
   "source": [
    "s = encode(strs)"
   ]
  },
  {
   "cell_type": "code",
   "execution_count": 7,
   "id": "a28fa8c7-590e-4cf5-936f-604e71953ca3",
   "metadata": {},
   "outputs": [
    {
     "data": {
      "text/plain": [
       "'4,4,4,3,#neetcodeloveyou'"
      ]
     },
     "execution_count": 7,
     "metadata": {},
     "output_type": "execute_result"
    }
   ],
   "source": [
    "s"
   ]
  },
  {
   "cell_type": "code",
   "execution_count": 8,
   "id": "3698e39a-a6a0-41b4-b396-94382ac39d9d",
   "metadata": {},
   "outputs": [],
   "source": [
    "out = decode(s)"
   ]
  },
  {
   "cell_type": "code",
   "execution_count": 9,
   "id": "d29d1bc0-a6c3-445b-9ab2-a4a2f3aba85e",
   "metadata": {},
   "outputs": [
    {
     "data": {
      "text/plain": [
       "['neet', 'code', 'love', 'you']"
      ]
     },
     "execution_count": 9,
     "metadata": {},
     "output_type": "execute_result"
    }
   ],
   "source": [
    "out"
   ]
  },
  {
   "cell_type": "code",
   "execution_count": null,
   "id": "d53d3f2a-5624-442f-889f-f3aa95327f9b",
   "metadata": {},
   "outputs": [],
   "source": []
  }
 ],
 "metadata": {
  "kernelspec": {
   "display_name": "Python 3 (ipykernel)",
   "language": "python",
   "name": "python3"
  },
  "language_info": {
   "codemirror_mode": {
    "name": "ipython",
    "version": 3
   },
   "file_extension": ".py",
   "mimetype": "text/x-python",
   "name": "python",
   "nbconvert_exporter": "python",
   "pygments_lexer": "ipython3",
   "version": "3.9.6"
  }
 },
 "nbformat": 4,
 "nbformat_minor": 5
}
