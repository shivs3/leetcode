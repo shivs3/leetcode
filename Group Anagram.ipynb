{
 "cells": [
  {
   "cell_type": "markdown",
   "id": "4a3270f2-e5af-40f6-b550-fc5ef02c0b77",
   "metadata": {},
   "source": [
    "# 49. Group Anagrams"
   ]
  },
  {
   "cell_type": "raw",
   "id": "6bc786dc-35b1-4a59-bf50-12ddcc412553",
   "metadata": {},
   "source": [
    "Given an array of strings strs, group the anagrams together. You can return the answer in any order.\n",
    "\n",
    " \n",
    "\n",
    "Example 1:\n",
    "\n",
    "Input: strs = [\"eat\",\"tea\",\"tan\",\"ate\",\"nat\",\"bat\"]\n",
    "\n",
    "Output: [[\"bat\"],[\"nat\",\"tan\"],[\"ate\",\"eat\",\"tea\"]]\n",
    "\n",
    "Explanation:\n",
    "\n",
    "There is no string in strs that can be rearranged to form \"bat\".\n",
    "The strings \"nat\" and \"tan\" are anagrams as they can be rearranged to form each other.\n",
    "The strings \"ate\", \"eat\", and \"tea\" are anagrams as they can be rearranged to form each other.\n",
    "Example 2:\n",
    "\n",
    "Input: strs = [\"\"]\n",
    "\n",
    "Output: [[\"\"]]\n",
    "\n",
    "Example 3:\n",
    "\n",
    "Input: strs = [\"a\"]\n",
    "\n",
    "Output: [[\"a\"]]\n",
    "\n",
    " \n",
    "\n",
    "Constraints:\n",
    "\n",
    "1 <= strs.length <= 104\n",
    "0 <= strs[i].length <= 100\n",
    "strs[i] consists of lowercase English letters."
   ]
  },
  {
   "cell_type": "code",
   "execution_count": 28,
   "id": "950ff40e-006f-4ff8-b9b0-2820122ca764",
   "metadata": {},
   "outputs": [],
   "source": [
    "strs = [\"eat\",\"tea\",\"tan\",\"ate\",\"nat\",\"bat\"]"
   ]
  },
  {
   "cell_type": "code",
   "execution_count": 29,
   "id": "2d99130d-ff4e-48ed-af8b-1b0ccf27a0fc",
   "metadata": {},
   "outputs": [],
   "source": [
    "from collections import defaultdict\n"
   ]
  },
  {
   "cell_type": "code",
   "execution_count": null,
   "id": "1487a7e5-6778-4f04-9533-29bc72c2e11c",
   "metadata": {},
   "outputs": [],
   "source": []
  },
  {
   "cell_type": "code",
   "execution_count": 30,
   "id": "52a5c54a-eb5a-4792-8530-a81031cbe000",
   "metadata": {},
   "outputs": [],
   "source": [
    "for s in strs:\n",
    "    count = [0]*26\n",
    "    for i in s:\n",
    "        count[ord(i)-ord('a')]+=1\n",
    "    res[tuple(count)].append(s)\n"
   ]
  },
  {
   "cell_type": "code",
   "execution_count": 31,
   "id": "1dd5f15f-d8d5-4672-ba18-0ced91217961",
   "metadata": {},
   "outputs": [
    {
     "data": {
      "text/plain": [
       "dict_values([['eat', 'tea', 'ate', 'eat', 'tea', 'ate', 'eat', 'tea', 'ate', 'eat', 'tea', 'ate', 'eat', 'tea', 'ate', 'eat', 'tea', 'ate'], ['tan', 'nat', 'tan', 'nat', 'tan', 'nat', 'tan', 'nat', 'tan', 'nat', 'tan', 'nat'], ['bat', 'bat', 'bat', 'bat', 'bat', 'bat']])"
      ]
     },
     "execution_count": 31,
     "metadata": {},
     "output_type": "execute_result"
    }
   ],
   "source": []
  },
  {
   "cell_type": "code",
   "execution_count": 36,
   "id": "4d13fd84-6103-4e70-bce1-6985b67317c5",
   "metadata": {},
   "outputs": [],
   "source": [
    "# Define Function\n",
    "def groupAnagram(strs):\n",
    "    result = defaultdict(list)\n",
    "    for s in strs:\n",
    "        count = [0]*26\n",
    "        for char in s:\n",
    "            count[ord(char)-ord('a')]+=1\n",
    "        result[tuple(count)].append(s)\n",
    "    return list(result.values())"
   ]
  },
  {
   "cell_type": "code",
   "execution_count": 37,
   "id": "47374aa2-d88a-4a12-96f4-ddd76a717ab7",
   "metadata": {},
   "outputs": [
    {
     "data": {
      "text/plain": [
       "[['eat', 'tea', 'ate'], ['tan', 'nat'], ['bat']]"
      ]
     },
     "execution_count": 37,
     "metadata": {},
     "output_type": "execute_result"
    }
   ],
   "source": [
    "groupAnagram(strs)"
   ]
  },
  {
   "cell_type": "code",
   "execution_count": null,
   "id": "277cc04b-f5f1-4e47-b472-a7b6f6ed1061",
   "metadata": {},
   "outputs": [],
   "source": []
  },
  {
   "cell_type": "code",
   "execution_count": null,
   "id": "372b5f1f-5b50-41ed-98cd-b9b581bd2045",
   "metadata": {},
   "outputs": [],
   "source": []
  }
 ],
 "metadata": {
  "kernelspec": {
   "display_name": "Python 3 (ipykernel)",
   "language": "python",
   "name": "python3"
  },
  "language_info": {
   "codemirror_mode": {
    "name": "ipython",
    "version": 3
   },
   "file_extension": ".py",
   "mimetype": "text/x-python",
   "name": "python",
   "nbconvert_exporter": "python",
   "pygments_lexer": "ipython3",
   "version": "3.9.6"
  }
 },
 "nbformat": 4,
 "nbformat_minor": 5
}
