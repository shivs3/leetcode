{
 "cells": [
  {
   "cell_type": "markdown",
   "id": "29975e7f-f832-47ec-95b8-2b309c89e028",
   "metadata": {},
   "source": [
    "# Invert Binary Tree"
   ]
  },
  {
   "cell_type": "raw",
   "id": "c47d35b4-4879-4655-9c02-2ce5617edfd6",
   "metadata": {},
   "source": [
    "Given the root of a binary tree, invert the tree, and return its root.\n",
    "\n",
    " \n",
    "\n",
    "Example 1:\n",
    "\n",
    "\n",
    "Input: root = [4,2,7,1,3,6,9]\n",
    "Output: [4,7,2,9,6,3,1]\n",
    "Example 2:\n",
    "\n",
    "\n",
    "Input: root = [2,1,3]\n",
    "Output: [2,3,1]\n",
    "Example 3:\n",
    "\n",
    "Input: root = []\n",
    "Output: []\n"
   ]
  },
  {
   "cell_type": "code",
   "execution_count": 1,
   "id": "12e1789c-3508-4d5e-ae83-6c399f0e562a",
   "metadata": {},
   "outputs": [],
   "source": [
    "# Define Tree Node\n",
    "class TreeNode():\n",
    "    def __init__(self, val =0, left = None, right = None):\n",
    "        self.val = val\n",
    "        self.right = right\n",
    "        self.left = left\n",
    "        "
   ]
  },
  {
   "cell_type": "code",
   "execution_count": 2,
   "id": "e3d38f4b-7ff0-4584-8cf1-b1a840f5aaac",
   "metadata": {},
   "outputs": [],
   "source": [
    "def invertTree(root:TreeNode):\n",
    "    if not root:\n",
    "        return None\n",
    "    temp = root.left\n",
    "    root.left = root.right\n",
    "    root.right = temp\n",
    "\n",
    "    self.invertTree(root.left)\n",
    "    self.invertTree(root.right)\n",
    "\n",
    "    return root"
   ]
  },
  {
   "cell_type": "code",
   "execution_count": null,
   "id": "18843972-47f2-4bfa-9e4f-56c140df7415",
   "metadata": {},
   "outputs": [],
   "source": []
  }
 ],
 "metadata": {
  "kernelspec": {
   "display_name": "Python 3 (ipykernel)",
   "language": "python",
   "name": "python3"
  },
  "language_info": {
   "codemirror_mode": {
    "name": "ipython",
    "version": 3
   },
   "file_extension": ".py",
   "mimetype": "text/x-python",
   "name": "python",
   "nbconvert_exporter": "python",
   "pygments_lexer": "ipython3",
   "version": "3.9.6"
  }
 },
 "nbformat": 4,
 "nbformat_minor": 5
}
