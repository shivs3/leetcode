{
 "cells": [
  {
   "cell_type": "markdown",
   "id": "2667e650-0105-481f-8475-7f676957ccbf",
   "metadata": {},
   "source": [
    "# Kth Smallest Element in a BST"
   ]
  },
  {
   "cell_type": "raw",
   "id": "2e9386b0-f5fe-4463-a81a-94a477b316c7",
   "metadata": {},
   "source": [
    "Given the root of a binary search tree, and an integer k, return the kth smallest value (1-indexed) of all the values of the nodes in the tree.\n",
    "\n",
    " \n",
    "\n",
    "Example 1:\n",
    "\n",
    "\n",
    "Input: root = [3,1,4,null,2], k = 1\n",
    "Output: 1\n",
    "Example 2:\n",
    "\n",
    "\n",
    "Input: root = [5,3,6,2,4,null,null,1], k = 3\n",
    "Output: 3\n",
    " \n",
    "\n",
    "Constraints:\n",
    "\n",
    "The number of nodes in the tree is n.\n",
    "1 <= k <= n <= 104\n",
    "0 <= Node.val <= 104"
   ]
  },
  {
   "cell_type": "code",
   "execution_count": 1,
   "id": "1a0f604a-3bec-4f10-9484-cc77a1549bbc",
   "metadata": {},
   "outputs": [],
   "source": [
    "# Definition for a binary tree node.\n",
    "class TreeNode:\n",
    "    def __init__(self, val=0, left=None, right=None):\n",
    "        self.val = val\n",
    "        self.left = left\n",
    "        self.right = right\n"
   ]
  },
  {
   "cell_type": "code",
   "execution_count": 2,
   "id": "0d3736bf-c66a-4fe7-baf3-f68c6923a11a",
   "metadata": {},
   "outputs": [],
   "source": [
    "class Solution:\n",
    "    def kthSmallest(self, root: TreeNode, k: int) -> int:\n",
    "        # Initialize a stack for iterative in-order traversal\n",
    "        stack = []\n",
    "        current = root\n",
    "        count = 0  # To track the number of nodes visited\n",
    "        \n",
    "        while True:\n",
    "            # Traverse the left subtree\n",
    "            while current:\n",
    "                stack.append(current)\n",
    "                current = current.left\n",
    "            \n",
    "            # Visit the node\n",
    "            current = stack.pop()\n",
    "            count += 1\n",
    "            \n",
    "            # If we've visited the kth node, return its value\n",
    "            if count == k:\n",
    "                return current.val\n",
    "            \n",
    "            # Traverse the right subtree\n",
    "            current = current.right"
   ]
  },
  {
   "cell_type": "code",
   "execution_count": null,
   "id": "77604fde-6dfa-471c-90f1-fd5a43e8b10c",
   "metadata": {},
   "outputs": [],
   "source": []
  }
 ],
 "metadata": {
  "kernelspec": {
   "display_name": "Python 3 (ipykernel)",
   "language": "python",
   "name": "python3"
  },
  "language_info": {
   "codemirror_mode": {
    "name": "ipython",
    "version": 3
   },
   "file_extension": ".py",
   "mimetype": "text/x-python",
   "name": "python",
   "nbconvert_exporter": "python",
   "pygments_lexer": "ipython3",
   "version": "3.9.6"
  }
 },
 "nbformat": 4,
 "nbformat_minor": 5
}
