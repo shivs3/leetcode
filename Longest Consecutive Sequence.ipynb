{
 "cells": [
  {
   "cell_type": "markdown",
   "id": "d70f1861-688c-4985-bd79-611e664580fe",
   "metadata": {},
   "source": [
    "# Longest Consecutive Sequence"
   ]
  },
  {
   "cell_type": "raw",
   "id": "81c850a0-4770-4f1d-af12-7475703721bc",
   "metadata": {},
   "source": [
    "Given an unsorted array of integers nums, return the length of the longest consecutive elements sequence.\n",
    "\n",
    "You must write an algorithm that runs in O(n) time.\n",
    "\n",
    " \n",
    "\n",
    "Example 1:\n",
    "\n",
    "Input: nums = [100,4,200,1,3,2]\n",
    "Output: 4\n",
    "Explanation: The longest consecutive elements sequence is [1, 2, 3, 4]. Therefore its length is 4.\n",
    "Example 2:\n",
    "\n",
    "Input: nums = [0,3,7,2,5,8,4,6,0,1]\n",
    "Output: 9\n",
    "Example 3:\n",
    "\n",
    "Input: nums = [1,0,1,2]\n",
    "Output: 3"
   ]
  },
  {
   "cell_type": "code",
   "execution_count": 1,
   "id": "12ad752c-476d-4024-86d2-8eb15dd0e028",
   "metadata": {},
   "outputs": [],
   "source": [
    "nums = [100,4,200,1,3,2]"
   ]
  },
  {
   "cell_type": "code",
   "execution_count": 2,
   "id": "afc1ea25-b8cb-40f7-9b69-7db2cca7572a",
   "metadata": {},
   "outputs": [],
   "source": [
    "def LongestConsecutiveSequence(nums):\n",
    "    ans = 0\n",
    "    seen = set(nums)\n",
    "    for num in nums:\n",
    "        if num-1 in seen:\n",
    "            continue\n",
    "        length = 0\n",
    "        while num in nums:\n",
    "            num+=1\n",
    "            length+=1\n",
    "        ans = max(ans, length)\n",
    "    return ans"
   ]
  },
  {
   "cell_type": "code",
   "execution_count": 3,
   "id": "66289aaf-31d4-4c8a-ad21-f975cb25ad67",
   "metadata": {},
   "outputs": [
    {
     "data": {
      "text/plain": [
       "4"
      ]
     },
     "execution_count": 3,
     "metadata": {},
     "output_type": "execute_result"
    }
   ],
   "source": [
    "LongestConsecutiveSequence(nums)"
   ]
  },
  {
   "cell_type": "markdown",
   "id": "7935b4c0-4abe-411e-9cfa-045ac0a8f776",
   "metadata": {},
   "source": [
    "# Solution 2"
   ]
  },
  {
   "cell_type": "code",
   "execution_count": 7,
   "id": "c92ad501-a310-4ee3-96e4-076726ba8f54",
   "metadata": {},
   "outputs": [],
   "source": [
    "def LongestConsecutiveSequence(nums):\n",
    "    nums = set(nums)\n",
    "    table = {}\n",
    "    ans = 0\n",
    "    for num in nums:\n",
    "        x = table.get(num-1,0)\n",
    "        y = table.get(num+1,0)\n",
    "        count = x + y + 1\n",
    "        table[num-x]=count\n",
    "        table[num+y]=count\n",
    "        ans = max(ans, count)\n",
    "    print(table)\n",
    "    return ans\n",
    "    "
   ]
  },
  {
   "cell_type": "code",
   "execution_count": 8,
   "id": "380d9d22-7750-4a87-9771-ef918de51822",
   "metadata": {},
   "outputs": [
    {
     "name": "stdout",
     "output_type": "stream",
     "text": [
      "{1: 4, 2: 2, 3: 3, 100: 1, 4: 4, 200: 1}\n"
     ]
    },
    {
     "data": {
      "text/plain": [
       "4"
      ]
     },
     "execution_count": 8,
     "metadata": {},
     "output_type": "execute_result"
    }
   ],
   "source": [
    "LongestConsecutiveSequence(nums)"
   ]
  },
  {
   "cell_type": "code",
   "execution_count": 9,
   "id": "7d5cefe2-444c-4bad-9f98-6099cb80fb37",
   "metadata": {},
   "outputs": [
    {
     "data": {
      "text/plain": [
       "[100, 4, 200, 1, 3, 2]"
      ]
     },
     "execution_count": 9,
     "metadata": {},
     "output_type": "execute_result"
    }
   ],
   "source": [
    "nums"
   ]
  },
  {
   "cell_type": "code",
   "execution_count": 10,
   "id": "2c45421e-ef86-4212-ad6d-9ff578d4c2aa",
   "metadata": {},
   "outputs": [
    {
     "data": {
      "text/plain": [
       "{1, 2, 3, 4, 100, 200}"
      ]
     },
     "execution_count": 10,
     "metadata": {},
     "output_type": "execute_result"
    }
   ],
   "source": [
    "set(nums)"
   ]
  },
  {
   "cell_type": "code",
   "execution_count": 11,
   "id": "55a95606-c9df-4c85-a362-1f288893d7ce",
   "metadata": {},
   "outputs": [],
   "source": [
    "a = {3,2,4,7,1}"
   ]
  },
  {
   "cell_type": "code",
   "execution_count": 12,
   "id": "bae0f8f0-d79d-4ce7-b3ee-e83be1129889",
   "metadata": {},
   "outputs": [
    {
     "data": {
      "text/plain": [
       "{1, 2, 3, 4, 7}"
      ]
     },
     "execution_count": 12,
     "metadata": {},
     "output_type": "execute_result"
    }
   ],
   "source": [
    "a"
   ]
  },
  {
   "cell_type": "code",
   "execution_count": null,
   "id": "e5f0f97c-b23d-45bb-a7e0-5658f7b89a64",
   "metadata": {},
   "outputs": [],
   "source": []
  }
 ],
 "metadata": {
  "kernelspec": {
   "display_name": "Python 3 (ipykernel)",
   "language": "python",
   "name": "python3"
  },
  "language_info": {
   "codemirror_mode": {
    "name": "ipython",
    "version": 3
   },
   "file_extension": ".py",
   "mimetype": "text/x-python",
   "name": "python",
   "nbconvert_exporter": "python",
   "pygments_lexer": "ipython3",
   "version": "3.9.6"
  }
 },
 "nbformat": 4,
 "nbformat_minor": 5
}
