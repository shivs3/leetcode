{
 "cells": [
  {
   "cell_type": "markdown",
   "id": "554af4e5-d8f3-4e4c-a67d-75fa3aaed4d3",
   "metadata": {},
   "source": [
    "# Longest Repeating Character Replacement"
   ]
  },
  {
   "cell_type": "raw",
   "id": "9fa7cd50-d35c-4b12-9576-e1ff94f750d9",
   "metadata": {},
   "source": [
    "You are given a string s and an integer k. You can choose any character of the string and change it to any other uppercase English character. You can perform this operation at most k times.\n",
    "\n",
    "Return the length of the longest substring containing the same letter you can get after performing the above operations.\n",
    "\n",
    " \n",
    "\n",
    "Example 1:\n",
    "\n",
    "Input: s = \"ABAB\", k = 2\n",
    "Output: 4\n",
    "Explanation: Replace the two 'A's with two 'B's or vice versa.\n",
    "Example 2:\n",
    "\n",
    "Input: s = \"AABABBA\", k = 1\n",
    "Output: 4\n",
    "Explanation: Replace the one 'A' in the middle with 'B' and form \"AABBBBA\".\n",
    "The substring \"BBBB\" has the longest repeating letters, which is 4.\n",
    "There may exists other ways to achieve this answer too.\n",
    " \n",
    "\n",
    "Constraints:\n",
    "\n",
    "1 <= s.length <= 105\n",
    "s consists of only uppercase English letters.\n",
    "0 <= k <= s.length"
   ]
  },
  {
   "cell_type": "code",
   "execution_count": 7,
   "id": "7d80a881-ac06-4bd8-9325-cfe2d34ea4be",
   "metadata": {},
   "outputs": [],
   "source": [
    "def LongestCharacterReplacement(s,k):\n",
    "    count = {}\n",
    "    l = 0\n",
    "    res = 0\n",
    "    maxv = 0\n",
    "    for r in range(len(s)):\n",
    "        count[s[r]] = 1 + count.get(s[r],0)\n",
    "        maxv = max(maxv, count[s[r]])\n",
    "\n",
    "        while ((r-l+1)-maxv) > k:\n",
    "            count[s[l]]-=1\n",
    "            l+=1\n",
    "        res = max(res, r-l+1)\n",
    "    return res"
   ]
  },
  {
   "cell_type": "code",
   "execution_count": 12,
   "id": "e759a95b-dd94-4986-bad0-932057d26d46",
   "metadata": {},
   "outputs": [],
   "source": [
    "s = \"ABABBBAB\"\n",
    "k = 2"
   ]
  },
  {
   "cell_type": "code",
   "execution_count": 13,
   "id": "bdeb0f80-23e7-4f20-aebb-8df379a0c6fc",
   "metadata": {},
   "outputs": [
    {
     "data": {
      "text/plain": [
       "7"
      ]
     },
     "execution_count": 13,
     "metadata": {},
     "output_type": "execute_result"
    }
   ],
   "source": [
    "LongestCharacterReplacement(s,k)"
   ]
  },
  {
   "cell_type": "code",
   "execution_count": null,
   "id": "f5fb9568-2eef-4b91-a596-fccdeebfa80c",
   "metadata": {},
   "outputs": [],
   "source": []
  }
 ],
 "metadata": {
  "kernelspec": {
   "display_name": "Python 3 (ipykernel)",
   "language": "python",
   "name": "python3"
  },
  "language_info": {
   "codemirror_mode": {
    "name": "ipython",
    "version": 3
   },
   "file_extension": ".py",
   "mimetype": "text/x-python",
   "name": "python",
   "nbconvert_exporter": "python",
   "pygments_lexer": "ipython3",
   "version": "3.9.6"
  }
 },
 "nbformat": 4,
 "nbformat_minor": 5
}
