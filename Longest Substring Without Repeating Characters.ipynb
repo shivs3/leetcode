{
 "cells": [
  {
   "cell_type": "markdown",
   "id": "588410d0-840f-4aca-ad24-af880da5478f",
   "metadata": {},
   "source": [
    "# Longest Substring Without Repeating Characters"
   ]
  },
  {
   "cell_type": "raw",
   "id": "5c522930-d5f7-4650-907a-f4572a3d7a7b",
   "metadata": {},
   "source": [
    "Given a string s, find the length of the longest substring without duplicate characters.\n",
    "\n",
    " \n",
    "\n",
    "Example 1:\n",
    "\n",
    "Input: s = \"abcabcbb\"\n",
    "Output: 3\n",
    "Explanation: The answer is \"abc\", with the length of 3.\n",
    "Example 2:\n",
    "\n",
    "Input: s = \"bbbbb\"\n",
    "Output: 1\n",
    "Explanation: The answer is \"b\", with the length of 1.\n",
    "Example 3:\n",
    "\n",
    "Input: s = \"pwwkew\"\n",
    "Output: 3\n",
    "Explanation: The answer is \"wke\", with the length of 3.\n",
    "Notice that the answer must be a substring, \"pwke\" is a subsequence and not a substring.\n"
   ]
  },
  {
   "cell_type": "code",
   "execution_count": 1,
   "id": "9216d230-8f7a-4283-b9d7-c4950776ba5d",
   "metadata": {},
   "outputs": [],
   "source": [
    "s = \"abcabcbb\""
   ]
  },
  {
   "cell_type": "code",
   "execution_count": 8,
   "id": "5fa6d0ff-992e-4ba5-b077-4e71e01e6134",
   "metadata": {},
   "outputs": [],
   "source": [
    "def longestSubstring(s):\n",
    "    data = set()\n",
    "    length = 0\n",
    "    l=0\n",
    "    for r in range(len(s)):\n",
    "        while s[r] in data:\n",
    "            data.remove(s[l])\n",
    "            l+=1\n",
    "        data.add(s[r])\n",
    "        length = max(length, r-l+1)\n",
    "    return length"
   ]
  },
  {
   "cell_type": "code",
   "execution_count": 9,
   "id": "1f6485a6-d03e-4eed-9089-bf81ec2ee59e",
   "metadata": {},
   "outputs": [
    {
     "data": {
      "text/plain": [
       "3"
      ]
     },
     "execution_count": 9,
     "metadata": {},
     "output_type": "execute_result"
    }
   ],
   "source": [
    "longestSubstring(s)"
   ]
  },
  {
   "cell_type": "code",
   "execution_count": null,
   "id": "9dbeb63a-7468-4e96-a53f-93f70b08460c",
   "metadata": {},
   "outputs": [],
   "source": []
  }
 ],
 "metadata": {
  "kernelspec": {
   "display_name": "Python 3 (ipykernel)",
   "language": "python",
   "name": "python3"
  },
  "language_info": {
   "codemirror_mode": {
    "name": "ipython",
    "version": 3
   },
   "file_extension": ".py",
   "mimetype": "text/x-python",
   "name": "python",
   "nbconvert_exporter": "python",
   "pygments_lexer": "ipython3",
   "version": "3.9.6"
  }
 },
 "nbformat": 4,
 "nbformat_minor": 5
}
