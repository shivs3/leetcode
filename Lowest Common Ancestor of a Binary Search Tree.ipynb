{
 "cells": [
  {
   "cell_type": "markdown",
   "id": "ed6aa04d-4994-49ed-b39f-b0742d6e905e",
   "metadata": {},
   "source": [
    "# Lowest Common Ancestor of a Binary Search Tree"
   ]
  },
  {
   "cell_type": "raw",
   "id": "b3d6507a-4e1a-449f-b32e-2ae8e4eb3497",
   "metadata": {},
   "source": [
    "Given a binary search tree (BST), find the lowest common ancestor (LCA) node of two given nodes in the BST.\n",
    "\n",
    "According to the definition of LCA on Wikipedia: “The lowest common ancestor is defined between two nodes p and q as the lowest node in T that has both p and q as descendants (where we allow a node to be a descendant of itself).”\n",
    "\n",
    " \n",
    "\n",
    "Example 1:\n",
    "\n",
    "\n",
    "Input: root = [6,2,8,0,4,7,9,null,null,3,5], p = 2, q = 8\n",
    "Output: 6\n",
    "Explanation: The LCA of nodes 2 and 8 is 6.\n",
    "Example 2:\n",
    "\n",
    "\n",
    "Input: root = [6,2,8,0,4,7,9,null,null,3,5], p = 2, q = 4\n",
    "Output: 2\n",
    "Explanation: The LCA of nodes 2 and 4 is 2, since a node can be a descendant of itself according to the LCA definition.\n",
    "Example 3:\n",
    "\n",
    "Input: root = [2,1], p = 2, q = 1\n",
    "Output: 2\n",
    " \n",
    "\n",
    "Constraints:\n",
    "\n",
    "The number of nodes in the tree is in the range [2, 105].\n",
    "-109 <= Node.val <= 109\n",
    "All Node.val are unique.\n",
    "p != q\n",
    "p and q will exist in the BST."
   ]
  },
  {
   "cell_type": "code",
   "execution_count": 1,
   "id": "b44fdf9a-71d6-46a3-89b1-152f4e44979f",
   "metadata": {},
   "outputs": [],
   "source": [
    "class TreeNode:\n",
    "    def __init__(self, val=0, left = None, right = None):\n",
    "        self.val = val\n",
    "        self.left = left\n",
    "        self.right = right"
   ]
  },
  {
   "cell_type": "code",
   "execution_count": 2,
   "id": "d74857cc-d8d9-4ec4-ad2e-72a15813a8f8",
   "metadata": {},
   "outputs": [],
   "source": [
    "def LCAncestor(root:TreeNode, node1:TreeNode, node2:TreeNode):\n",
    "    temp = root\n",
    "\n",
    "    while temp:\n",
    "        if node1.val < temp.val and node2.val < temp.val:\n",
    "            temp = temp.left\n",
    "        elif node1.val > temp.val and node2.val > temp.val:\n",
    "            temp = temp.right\n",
    "        else:\n",
    "            return temp"
   ]
  },
  {
   "cell_type": "code",
   "execution_count": null,
   "id": "75438c6b-02ca-4882-b2ca-0e144170e68d",
   "metadata": {},
   "outputs": [],
   "source": []
  }
 ],
 "metadata": {
  "kernelspec": {
   "display_name": "Python 3 (ipykernel)",
   "language": "python",
   "name": "python3"
  },
  "language_info": {
   "codemirror_mode": {
    "name": "ipython",
    "version": 3
   },
   "file_extension": ".py",
   "mimetype": "text/x-python",
   "name": "python",
   "nbconvert_exporter": "python",
   "pygments_lexer": "ipython3",
   "version": "3.9.6"
  }
 },
 "nbformat": 4,
 "nbformat_minor": 5
}
