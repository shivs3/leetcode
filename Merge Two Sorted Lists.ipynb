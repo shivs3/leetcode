{
 "cells": [
  {
   "cell_type": "markdown",
   "id": "d7db08dd-9ff9-43a3-bc6f-781f3e889217",
   "metadata": {},
   "source": [
    "# Merge Two Sorted Lists"
   ]
  },
  {
   "cell_type": "raw",
   "id": "be68700c-3340-48bc-bb06-605c66d947cf",
   "metadata": {},
   "source": [
    "You are given the heads of two sorted linked lists list1 and list2.\n",
    "\n",
    "Merge the two lists into one sorted list. The list should be made by splicing together the nodes of the first two lists.\n",
    "\n",
    "Return the head of the merged linked list.\n",
    "\n",
    " \n",
    "\n",
    "Example 1:\n",
    "\n",
    "\n",
    "Input: list1 = [1,2,4], list2 = [1,3,4]\n",
    "Output: [1,1,2,3,4,4]\n",
    "Example 2:\n",
    "\n",
    "Input: list1 = [], list2 = []\n",
    "Output: []\n",
    "Example 3:\n",
    "\n",
    "Input: list1 = [], list2 = [0]\n",
    "Output: [0]\n",
    " \n",
    "\n",
    "Constraints:\n",
    "\n",
    "The number of nodes in both lists is in the range [0, 50].\n",
    "-100 <= Node.val <= 100\n",
    "Both list1 and list2 are sorted in non-decreasing order."
   ]
  },
  {
   "cell_type": "code",
   "execution_count": 1,
   "id": "27beabac-7b87-405e-9787-cadcf017ca8f",
   "metadata": {},
   "outputs": [],
   "source": [
    "# Define Class\n",
    "class ListNode():\n",
    "    def __init__(self, val = 0, next = None):\n",
    "        self.val = val\n",
    "        self.next = next"
   ]
  },
  {
   "cell_type": "code",
   "execution_count": 21,
   "id": "299d9585-0ca7-4058-855c-4706d0fe9b29",
   "metadata": {},
   "outputs": [],
   "source": [
    "def Merge(l1:ListNode, l2:ListNode):\n",
    "    temp = ListNode()\n",
    "    data = temp\n",
    "    while l1 and l2:\n",
    "        if l1.val < l2. val:\n",
    "            data.next = l1\n",
    "            l1 = l1.next\n",
    "        else:\n",
    "            data.next = l2\n",
    "            l2 = l2.next\n",
    "        data = data.next\n",
    "\n",
    "        if l1:\n",
    "            data.next = l1\n",
    "        elif l2:\n",
    "            data.next = l2\n",
    "    return temp.next"
   ]
  },
  {
   "cell_type": "code",
   "execution_count": 22,
   "id": "25c31559-2f98-4d8d-91ac-420bcecb2968",
   "metadata": {},
   "outputs": [
    {
     "name": "stdout",
     "output_type": "stream",
     "text": [
      "1 -> 2 -> 3 -> 4 -> 5 -> 6 -> None\n"
     ]
    }
   ],
   "source": [
    "def print_list(head: ListNode):\n",
    "    while head:\n",
    "        print(head.val, end=\" -> \")\n",
    "        head = head.next\n",
    "    print(\"None\")\n",
    "\n",
    "# Create test lists\n",
    "l1 = ListNode(1, ListNode(3, ListNode(5)))\n",
    "l2 = ListNode(2, ListNode(4, ListNode(6)))\n",
    "\n",
    "sol = solution()\n",
    "merged_list = Merge(l1, l2)\n",
    "print_list(merged_list)"
   ]
  },
  {
   "cell_type": "code",
   "execution_count": 23,
   "id": "9b2c395a-39dd-49c6-a3cd-a11e09439a88",
   "metadata": {},
   "outputs": [
    {
     "name": "stdout",
     "output_type": "stream",
     "text": [
      "1 -> 2 -> 3 -> 4 -> 5 -> 6 -> None\n"
     ]
    }
   ],
   "source": [
    "print_list(merged_list)"
   ]
  },
  {
   "cell_type": "code",
   "execution_count": null,
   "id": "7adc66a8-3435-432d-8445-0668c40811de",
   "metadata": {},
   "outputs": [],
   "source": []
  }
 ],
 "metadata": {
  "kernelspec": {
   "display_name": "Python 3 (ipykernel)",
   "language": "python",
   "name": "python3"
  },
  "language_info": {
   "codemirror_mode": {
    "name": "ipython",
    "version": 3
   },
   "file_extension": ".py",
   "mimetype": "text/x-python",
   "name": "python",
   "nbconvert_exporter": "python",
   "pygments_lexer": "ipython3",
   "version": "3.9.6"
  }
 },
 "nbformat": 4,
 "nbformat_minor": 5
}
