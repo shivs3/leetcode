{
 "cells": [
  {
   "cell_type": "markdown",
   "id": "e5b80fee-b6ab-41b9-83cc-7173b143b67a",
   "metadata": {},
   "source": [
    "# Merge k Sorted Lists"
   ]
  },
  {
   "cell_type": "raw",
   "id": "7e582a20-40b2-4fcd-a447-ae741a4b7e71",
   "metadata": {},
   "source": [
    "You are given an array of k linked-lists lists, each linked-list is sorted in ascending order.\n",
    "\n",
    "Merge all the linked-lists into one sorted linked-list and return it.\n",
    "\n",
    " \n",
    "\n",
    "Example 1:\n",
    "\n",
    "Input: lists = [[1,4,5],[1,3,4],[2,6]]\n",
    "Output: [1,1,2,3,4,4,5,6]\n",
    "Explanation: The linked-lists are:\n",
    "[\n",
    "  1->4->5,\n",
    "  1->3->4,\n",
    "  2->6\n",
    "]\n",
    "merging them into one sorted list:\n",
    "1->1->2->3->4->4->5->6\n",
    "Example 2:\n",
    "\n",
    "Input: lists = []\n",
    "Output: []\n",
    "Example 3:\n",
    "\n",
    "Input: lists = [[]]\n",
    "Output: []\n",
    " \n",
    "\n",
    "Constraints:\n",
    "\n",
    "k == lists.length\n",
    "0 <= k <= 104\n",
    "0 <= lists[i].length <= 500\n"
   ]
  },
  {
   "cell_type": "code",
   "execution_count": 2,
   "id": "3b33b283-d5a7-4e98-b023-9a2c2f3cdc02",
   "metadata": {},
   "outputs": [],
   "source": [
    "# Definition for singly-linked list.\n",
    "class ListNode:\n",
    "    def __init__(self, val=0, next=None):\n",
    "        self.val = val\n",
    "        self.next = next\n",
    "\n",
    "class Solution:\n",
    "    def mergeKLists(self, lists: ListNode) :\n",
    "        if not lists or len(lists) == 0:\n",
    "            return None\n",
    "        \n",
    "        while len(lists) > 1:\n",
    "            mergeLists = []\n",
    "\n",
    "            for i in range(0, len(lists),2):\n",
    "                list1 = lists[i]\n",
    "                list2 = lists[i+1] if (i+1)<len(lists) else None\n",
    "                mergeLists.append(self.mergeTwoLists(list1,list2))\n",
    "            lists = mergeLists\n",
    "        return lists[0]\n",
    "    \n",
    "    def mergeTwoLists(self, list1, list2):\n",
    "        temp = ListNode()\n",
    "        tail =temp\n",
    "\n",
    "        while list1 and list2:\n",
    "            if list1.val < list2.val:\n",
    "                tail.next = list1\n",
    "                list1 = list1.next\n",
    "            else:\n",
    "                tail.next = list2\n",
    "                list2 = list2.next\n",
    "            tail = tail.next\n",
    "        if list1:\n",
    "            tail.next = list1\n",
    "        if list2:\n",
    "            tail.next = list2\n",
    "        return temp.next\n",
    "\n"
   ]
  },
  {
   "cell_type": "code",
   "execution_count": null,
   "id": "3aa28e40-5701-4993-82f0-6178e4018fa5",
   "metadata": {},
   "outputs": [],
   "source": []
  }
 ],
 "metadata": {
  "kernelspec": {
   "display_name": "Python 3 (ipykernel)",
   "language": "python",
   "name": "python3"
  },
  "language_info": {
   "codemirror_mode": {
    "name": "ipython",
    "version": 3
   },
   "file_extension": ".py",
   "mimetype": "text/x-python",
   "name": "python",
   "nbconvert_exporter": "python",
   "pygments_lexer": "ipython3",
   "version": "3.9.6"
  }
 },
 "nbformat": 4,
 "nbformat_minor": 5
}
