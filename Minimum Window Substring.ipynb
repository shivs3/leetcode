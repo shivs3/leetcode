{
 "cells": [
  {
   "cell_type": "markdown",
   "id": "87a3148a-ea1a-4ad8-83d7-784a695645a1",
   "metadata": {},
   "source": [
    "# Minimum Window Substring"
   ]
  },
  {
   "cell_type": "raw",
   "id": "4aa1c203-935d-46c2-b7c3-6f8867d5ce76",
   "metadata": {},
   "source": [
    "Given two strings s and t of lengths m and n respectively, return the minimum window substring of s such that every character in t (including duplicates) is included in the window. If there is no such substring, return the empty string \"\".\n",
    "\n",
    "The testcases will be generated such that the answer is unique.\n",
    "\n",
    " \n",
    "\n",
    "Example 1:\n",
    "\n",
    "Input: s = \"ADOBECODEBANC\", t = \"ABC\"\n",
    "Output: \"BANC\"\n",
    "Explanation: The minimum window substring \"BANC\" includes 'A', 'B', and 'C' from string t.\n",
    "Example 2:\n",
    "\n",
    "Input: s = \"a\", t = \"a\"\n",
    "Output: \"a\"\n",
    "Explanation: The entire string s is the minimum window.\n",
    "Example 3:\n",
    "\n",
    "Input: s = \"a\", t = \"aa\"\n",
    "Output: \"\"\n",
    "Explanation: Both 'a's from t must be included in the window.\n",
    "Since the largest window of s only has one 'a', return empty string.\n",
    " \n",
    "\n",
    "Constraints:\n",
    "\n",
    "m == s.length\n",
    "n == t.length\n",
    "1 <= m, n <= 105\n",
    "s and t consist of uppercase and lowercase English letters.\n"
   ]
  },
  {
   "cell_type": "code",
   "execution_count": 19,
   "id": "24fcf754-de5e-41ea-ac4b-75ef3df7cf5d",
   "metadata": {},
   "outputs": [],
   "source": [
    "def MinWindow(s, t):\n",
    "    if not s or not t or len(s) < len(t):\n",
    "        return \"\"\n",
    "    window, count = {}, {}\n",
    "    l=0\n",
    "    res, reslen = [-1, -1], float('infinity')\n",
    "    \n",
    "    for c in t:\n",
    "        count[c] = 1 + count.get(c, 0)\n",
    "    have, need = 0, len(count)\n",
    "    for r in range(len(s)):\n",
    "        window[s[r]] = 1 + window.get(s[r],0)\n",
    "        if s[r] in count and count[s[r]] == window[s[r]]:\n",
    "            have += 1\n",
    "        while have == need:\n",
    "            if (r-l+1) < reslen:\n",
    "                res = [l,r]\n",
    "                reslen = r-l+1\n",
    "            window[s[l]] -= 1\n",
    "            if s[l] in count and count[s[l]] > window[s[l]]:\n",
    "                have -= 1\n",
    "            l+=1\n",
    "    l,r = res\n",
    "    return s[l:r+1] if reslen != float('infinity') else \"\""
   ]
  },
  {
   "cell_type": "code",
   "execution_count": 20,
   "id": "d1328172-5543-40c5-9919-176eaa4c6a06",
   "metadata": {},
   "outputs": [],
   "source": [
    "s = \"ADOBECODEBANC\"\n",
    "t = \"ABC\""
   ]
  },
  {
   "cell_type": "code",
   "execution_count": 21,
   "id": "e5e9dfbf-29b5-4393-8bb8-0d6984a69460",
   "metadata": {},
   "outputs": [
    {
     "data": {
      "text/plain": [
       "'BANC'"
      ]
     },
     "execution_count": 21,
     "metadata": {},
     "output_type": "execute_result"
    }
   ],
   "source": [
    "MinWindow(s, t)"
   ]
  },
  {
   "cell_type": "code",
   "execution_count": null,
   "id": "cb5aefdd-c85c-4659-9d2b-0ff65c805a9c",
   "metadata": {},
   "outputs": [],
   "source": [
    " def minWindow(self, s: str, t: str) -> str:\n",
    "        if not s or not t or len(s) < len(t):\n",
    "            return \"\"\n",
    "\n",
    "        window,countT = {},{}\n",
    "        l=0\n",
    "        res,reslen=[-1,-1],float(\"infinity\")\n",
    "        for c in t:\n",
    "            countT[c]=1+countT.get(c,0)\n",
    "        have,need = 0,len(countT)\n",
    "        for r in range(len(s)):\n",
    "            c=s[r]\n",
    "            window[c]=1+window.get(c,0)\n",
    "\n",
    "            if c in countT and window[c]==countT[c]:\n",
    "                have+=1\n",
    "            while have==need:\n",
    "                if (r-l+1)<reslen:\n",
    "                    res=[l,r]\n",
    "                    reslen=r-l+1\n",
    "                window[s[l]]-=1\n",
    "                if s[l] in countT and window[s[l]]<countT[s[l]]:\n",
    "                    have-=1\n",
    "                l+=1\n",
    "        l,r=res\n",
    "        return s[l:r+1] if reslen!=float(\"infinity\") else \"\""
   ]
  }
 ],
 "metadata": {
  "kernelspec": {
   "display_name": "Python 3 (ipykernel)",
   "language": "python",
   "name": "python3"
  },
  "language_info": {
   "codemirror_mode": {
    "name": "ipython",
    "version": 3
   },
   "file_extension": ".py",
   "mimetype": "text/x-python",
   "name": "python",
   "nbconvert_exporter": "python",
   "pygments_lexer": "ipython3",
   "version": "3.9.6"
  }
 },
 "nbformat": 4,
 "nbformat_minor": 5
}
