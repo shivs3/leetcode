{
 "cells": [
  {
   "cell_type": "markdown",
   "id": "7a3d63f8-a1ff-4a8b-bdea-1e7a11f7863b",
   "metadata": {},
   "source": [
    "# Number of Islands"
   ]
  },
  {
   "cell_type": "raw",
   "id": "f0958da2-2cca-4225-b82e-cdaafbd2d8a7",
   "metadata": {},
   "source": [
    "Given an m x n 2D binary grid grid which represents a map of '1's (land) and '0's (water), return the number of islands.\n",
    "\n",
    "An island is surrounded by water and is formed by connecting adjacent lands horizontally or vertically. You may assume all four edges of the grid are all surrounded by water.\n",
    "\n",
    " \n",
    "\n",
    "Example 1:\n",
    "\n",
    "Input: grid = [\n",
    "  [\"1\",\"1\",\"1\",\"1\",\"0\"],\n",
    "  [\"1\",\"1\",\"0\",\"1\",\"0\"],\n",
    "  [\"1\",\"1\",\"0\",\"0\",\"0\"],\n",
    "  [\"0\",\"0\",\"0\",\"0\",\"0\"]\n",
    "]\n",
    "Output: 1\n",
    "Example 2:\n",
    "\n",
    "Input: grid = [\n",
    "  [\"1\",\"1\",\"0\",\"0\",\"0\"],\n",
    "  [\"1\",\"1\",\"0\",\"0\",\"0\"],\n",
    "  [\"0\",\"0\",\"1\",\"0\",\"0\"],\n",
    "  [\"0\",\"0\",\"0\",\"1\",\"1\"]\n",
    "]\n",
    "Output: 3\n",
    " \n",
    "\n",
    "Constraints:\n",
    "\n",
    "m == grid.length\n",
    "n == grid[i].length\n",
    "1 <= m, n <= 300\n",
    "grid[i][j] is '0' or '1'."
   ]
  },
  {
   "cell_type": "code",
   "execution_count": 1,
   "id": "98f92eda-916c-4fa2-9b12-77f01d934805",
   "metadata": {},
   "outputs": [],
   "source": [
    "class Solution:\n",
    "    def numIslands(self, grid) -> int:\n",
    "        if not grid:\n",
    "            return 0\n",
    "\n",
    "        rows, cols = len(grid), len(grid[0])\n",
    "        visit = set()\n",
    "        island = 0\n",
    "\n",
    "        def bfs(r,c):\n",
    "            q = collections.deque()\n",
    "            visit.add((r,c))\n",
    "            q.append((r,c))\n",
    "\n",
    "            while q:\n",
    "                row, col = q.popleft()\n",
    "                directions = [[1,0],[-1,0],[0,1],[0,-1]]\n",
    "\n",
    "                for dr,dc in directions:\n",
    "                    r,c = row+dr, col+dc\n",
    "                    if r in range(rows) and c in range(cols) and grid[r][c]=='1' and (r,c) not in visit:\n",
    "                        q.append((r,c))\n",
    "                        visit.add((r,c))\n",
    "\n",
    "        for r in range(rows):\n",
    "            for c in range(cols):\n",
    "                if grid[r][c]=='1' and (r,c) not in visit:\n",
    "                    bfs(r,c)\n",
    "                    island+=1 \n",
    "\n",
    "        return island"
   ]
  },
  {
   "cell_type": "code",
   "execution_count": null,
   "id": "a757b730-4692-4b41-b708-ed2eda449293",
   "metadata": {},
   "outputs": [],
   "source": []
  }
 ],
 "metadata": {
  "kernelspec": {
   "display_name": "Python 3 (ipykernel)",
   "language": "python",
   "name": "python3"
  },
  "language_info": {
   "codemirror_mode": {
    "name": "ipython",
    "version": 3
   },
   "file_extension": ".py",
   "mimetype": "text/x-python",
   "name": "python",
   "nbconvert_exporter": "python",
   "pygments_lexer": "ipython3",
   "version": "3.9.6"
  }
 },
 "nbformat": 4,
 "nbformat_minor": 5
}
