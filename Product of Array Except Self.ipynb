{
 "cells": [
  {
   "cell_type": "markdown",
   "id": "b9877f7a-a7e6-4898-8c2f-9bc71e44ef8a",
   "metadata": {},
   "source": [
    "#  Product of Array Except Self"
   ]
  },
  {
   "cell_type": "raw",
   "id": "057191fa-5a1e-4927-bd6a-ae2ee73c6619",
   "metadata": {},
   "source": [
    "Given an integer array nums, return an array answer such that answer[i] is equal to the product of all the elements of nums except nums[i].\n",
    "\n",
    "The product of any prefix or suffix of nums is guaranteed to fit in a 32-bit integer.\n",
    "\n",
    "You must write an algorithm that runs in O(n) time and without using the division operation.\n",
    "\n",
    " \n",
    "\n",
    "Example 1:\n",
    "\n",
    "Input: nums = [1,2,3,4]\n",
    "Output: [24,12,8,6]\n",
    "Example 2:\n",
    "\n",
    "Input: nums = [-1,1,0,-3,3]\n",
    "Output: [0,0,9,0,0]\n",
    " \n",
    "\n",
    "Constraints:\n",
    "\n",
    "2 <= nums.length <= 105\n",
    "-30 <= nums[i] <= 30\n",
    "The input is generated such that answer[i] is guaranteed to fit in a 32-bit integer.\n",
    " \n",
    "\n",
    "Follow up: Can you solve the problem in O(1) extra space complexity? (The output array does not count as extra space for space complexity analysis.)"
   ]
  },
  {
   "cell_type": "code",
   "execution_count": 4,
   "id": "859c9bd8-3684-4081-ab8f-6223d3963a6f",
   "metadata": {},
   "outputs": [],
   "source": [
    "#Pre Multiplication\n",
    "def premul(nums):\n",
    "    res = [1]*len(nums)\n",
    "    x = 1\n",
    "    for i in range(len(nums)):\n",
    "        res[i] = x\n",
    "        x*=nums[i]\n",
    "    return res"
   ]
  },
  {
   "cell_type": "code",
   "execution_count": 5,
   "id": "2706b63c-ab4c-4379-8755-72fb424a345b",
   "metadata": {},
   "outputs": [],
   "source": [
    "nums = [1,2,3,4]"
   ]
  },
  {
   "cell_type": "code",
   "execution_count": 6,
   "id": "4ccf180e-ada8-4432-83f2-e44d020da48f",
   "metadata": {},
   "outputs": [
    {
     "data": {
      "text/plain": [
       "[1, 1, 2, 6]"
      ]
     },
     "execution_count": 6,
     "metadata": {},
     "output_type": "execute_result"
    }
   ],
   "source": [
    "premul(nums)"
   ]
  },
  {
   "cell_type": "code",
   "execution_count": 9,
   "id": "0665db45-543a-4045-8ce1-c714a77b9ece",
   "metadata": {},
   "outputs": [],
   "source": [
    "#Post Multiplication\n",
    "def postmul(nums):\n",
    "    res = [1]*len(nums)\n",
    "    x=1\n",
    "    for i in range(len(nums)-1,-1,-1):\n",
    "        res[i] = x\n",
    "        x*=nums[i]\n",
    "    return res"
   ]
  },
  {
   "cell_type": "code",
   "execution_count": 10,
   "id": "9765ee8a-585d-4c60-9785-7019ceb9e4f8",
   "metadata": {},
   "outputs": [
    {
     "data": {
      "text/plain": [
       "[24, 12, 4, 1]"
      ]
     },
     "execution_count": 10,
     "metadata": {},
     "output_type": "execute_result"
    }
   ],
   "source": [
    "postmul(nums)"
   ]
  },
  {
   "cell_type": "code",
   "execution_count": 11,
   "id": "0c145fe0-4c39-42c2-98ab-891074491d34",
   "metadata": {},
   "outputs": [],
   "source": [
    "#Final Function\n",
    "def ProductOfArray(nums):\n",
    "    res = [1]*len(nums)\n",
    "    pre = 1\n",
    "    for i in range(len(nums)):\n",
    "        res[i] = pre\n",
    "        pre*=nums[i]\n",
    "    post = 1\n",
    "    for i in range(len(nums)-1,-1,-1):\n",
    "        res[i]*=post\n",
    "        post*=nums[i]\n",
    "    return res"
   ]
  },
  {
   "cell_type": "code",
   "execution_count": 12,
   "id": "afb712c4-c1f7-4842-a311-3e5b6df6e796",
   "metadata": {},
   "outputs": [
    {
     "data": {
      "text/plain": [
       "[24, 12, 8, 6]"
      ]
     },
     "execution_count": 12,
     "metadata": {},
     "output_type": "execute_result"
    }
   ],
   "source": [
    "ProductOfArray(nums)"
   ]
  },
  {
   "cell_type": "code",
   "execution_count": null,
   "id": "dceeb92c-0835-4497-a97e-9495dbacf13d",
   "metadata": {},
   "outputs": [],
   "source": []
  }
 ],
 "metadata": {
  "kernelspec": {
   "display_name": "Python 3 (ipykernel)",
   "language": "python",
   "name": "python3"
  },
  "language_info": {
   "codemirror_mode": {
    "name": "ipython",
    "version": 3
   },
   "file_extension": ".py",
   "mimetype": "text/x-python",
   "name": "python",
   "nbconvert_exporter": "python",
   "pygments_lexer": "ipython3",
   "version": "3.9.6"
  }
 },
 "nbformat": 4,
 "nbformat_minor": 5
}
