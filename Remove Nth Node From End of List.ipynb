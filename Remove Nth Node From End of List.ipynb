{
 "cells": [
  {
   "cell_type": "markdown",
   "id": "acb34e11-a6c3-4b40-bdc2-2efa81100542",
   "metadata": {},
   "source": [
    "# Remove Nth Node From End of List"
   ]
  },
  {
   "cell_type": "raw",
   "id": "e4a347b6-8621-460b-85e3-85ad305a825c",
   "metadata": {},
   "source": [
    "Given the head of a linked list, remove the nth node from the end of the list and return its head.\n",
    "\n",
    " \n",
    "\n",
    "Example 1:\n",
    "\n",
    "\n",
    "Input: head = [1,2,3,4,5], n = 2\n",
    "Output: [1,2,3,5]\n",
    "Example 2:\n",
    "\n",
    "Input: head = [1], n = 1\n",
    "Output: []\n",
    "Example 3:\n",
    "\n",
    "Input: head = [1,2], n = 1\n",
    "Output: [1]\n",
    " \n",
    "\n",
    "Constraints:\n",
    "\n",
    "The number of nodes in the list is sz.\n"
   ]
  },
  {
   "cell_type": "code",
   "execution_count": 2,
   "id": "a52a5978-6b7b-4aae-8386-1d4652a54fa6",
   "metadata": {},
   "outputs": [],
   "source": [
    "class ListNode():\n",
    "    def __init__(self, val = 0, next = None):\n",
    "        self.val = val\n",
    "        self.next = next"
   ]
  },
  {
   "cell_type": "code",
   "execution_count": 3,
   "id": "42371db3-612c-4fec-8bfa-580dfcb631b0",
   "metadata": {},
   "outputs": [],
   "source": [
    "class Solution:\n",
    "  def removeNthFromEnd(self, head: ListNode, n: int) -> ListNode:\n",
    "    slow = head\n",
    "    fast = head\n",
    "\n",
    "    for _ in range(n):\n",
    "      fast = fast.next\n",
    "    if not fast:\n",
    "      return head.next\n",
    "\n",
    "    while fast.next:\n",
    "      slow = slow.next\n",
    "      fast = fast.next\n",
    "    slow.next = slow.next.next\n",
    "\n",
    "    return head\n"
   ]
  },
  {
   "cell_type": "code",
   "execution_count": null,
   "id": "19c5dd91-3ac6-4416-8ab6-f2053efead15",
   "metadata": {},
   "outputs": [],
   "source": []
  }
 ],
 "metadata": {
  "kernelspec": {
   "display_name": "Python 3 (ipykernel)",
   "language": "python",
   "name": "python3"
  },
  "language_info": {
   "codemirror_mode": {
    "name": "ipython",
    "version": 3
   },
   "file_extension": ".py",
   "mimetype": "text/x-python",
   "name": "python",
   "nbconvert_exporter": "python",
   "pygments_lexer": "ipython3",
   "version": "3.9.6"
  }
 },
 "nbformat": 4,
 "nbformat_minor": 5
}
