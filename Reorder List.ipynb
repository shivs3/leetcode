{
 "cells": [
  {
   "cell_type": "markdown",
   "id": "38428e6c-00b4-4342-9a03-298f6ef2ce36",
   "metadata": {},
   "source": [
    "# Reorder List"
   ]
  },
  {
   "cell_type": "raw",
   "id": "3c37c1bd-4b39-49cf-860c-ba08647fa633",
   "metadata": {},
   "source": [
    "You are given the head of a singly linked-list. The list can be represented as:\n",
    "\n",
    "L0 → L1 → … → Ln - 1 → Ln\n",
    "Reorder the list to be on the following form:\n",
    "\n",
    "L0 → Ln → L1 → Ln - 1 → L2 → Ln - 2 → …\n",
    "You may not modify the values in the list's nodes. Only nodes themselves may be changed.\n",
    "\n",
    " \n",
    "\n",
    "Example 1:\n",
    "\n",
    "\n",
    "Input: head = [1,2,3,4]\n",
    "Output: [1,4,2,3]\n",
    "Example 2:\n",
    "\n",
    "\n",
    "Input: head = [1,2,3,4,5]\n",
    "Output: [1,5,2,4,3]\n",
    " \n",
    "\n",
    "Constraints:\n",
    "\n",
    "The number of nodes in the list is in the range [1, 5 * 104].\n",
    "1 <= Node.val <= 1000"
   ]
  },
  {
   "cell_type": "code",
   "execution_count": 1,
   "id": "d04439dd-715a-48ff-90ba-811ebddaa872",
   "metadata": {},
   "outputs": [],
   "source": [
    "# Definition for singly-linked list.\n",
    "class ListNode:\n",
    "    def __init__(self, val=0, next=None):\n",
    "        self.val = val\n",
    "        self.next = next"
   ]
  },
  {
   "cell_type": "code",
   "execution_count": 2,
   "id": "a13b5f37-8a93-44ed-aa26-f02f7d69db72",
   "metadata": {},
   "outputs": [],
   "source": [
    "class Solution:\n",
    "    def reorderList(self, head: ListNode) -> None:\n",
    "        if not head or not head.next:\n",
    "            return\n",
    "        \n",
    "        # Step 1: Find the middle of the linked list\n",
    "        slow, fast = head, head\n",
    "        while fast and fast.next:\n",
    "            slow = slow.next\n",
    "            fast = fast.next.next\n",
    "        \n",
    "        # Step 2: Reverse the second half of the list\n",
    "        prev, curr = None, slow\n",
    "        while curr:\n",
    "            next_temp = curr.next\n",
    "            curr.next = prev\n",
    "            prev = curr\n",
    "            curr = next_temp\n",
    "        \n",
    "        # Step 3: Merge the two halves\n",
    "        first, second = head, prev\n",
    "        while second.next:\n",
    "            tmp1, tmp2 = first.next, second.next\n",
    "            first.next = second\n",
    "            second.next = tmp1\n",
    "            first, second = tmp1, tmp2"
   ]
  },
  {
   "cell_type": "code",
   "execution_count": null,
   "id": "ba2ca050-53a6-4830-8322-e586ccc13dab",
   "metadata": {},
   "outputs": [],
   "source": []
  }
 ],
 "metadata": {
  "kernelspec": {
   "display_name": "Python 3 (ipykernel)",
   "language": "python",
   "name": "python3"
  },
  "language_info": {
   "codemirror_mode": {
    "name": "ipython",
    "version": 3
   },
   "file_extension": ".py",
   "mimetype": "text/x-python",
   "name": "python",
   "nbconvert_exporter": "python",
   "pygments_lexer": "ipython3",
   "version": "3.9.6"
  }
 },
 "nbformat": 4,
 "nbformat_minor": 5
}
