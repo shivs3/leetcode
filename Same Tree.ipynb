{
 "cells": [
  {
   "cell_type": "markdown",
   "id": "417a39dd-d2fc-4b81-9255-d1a627d749d8",
   "metadata": {},
   "source": [
    "# Same Tree"
   ]
  },
  {
   "cell_type": "raw",
   "id": "263ef17b-30c0-4f1e-83fd-b7a49001fe4d",
   "metadata": {},
   "source": [
    "Given the roots of two binary trees p and q, write a function to check if they are the same or not.\n",
    "\n",
    "Two binary trees are considered the same if they are structurally identical, and the nodes have the same value.\n",
    "\n",
    " \n",
    "\n",
    "Example 1:\n",
    "\n",
    "\n",
    "Input: p = [1,2,3], q = [1,2,3]\n",
    "Output: true\n",
    "Example 2:\n",
    "\n",
    "\n",
    "Input: p = [1,2], q = [1,null,2]\n",
    "Output: false\n",
    "Example 3:\n",
    "\n",
    "\n",
    "Input: p = [1,2,1], q = [1,1,2]\n",
    "Output: false\n",
    " \n",
    "\n",
    "Constraints:\n",
    "\n",
    "The number of nodes in both trees is in the range [0, 100].\n",
    "-104 <= Node.val <= 104"
   ]
  },
  {
   "cell_type": "code",
   "execution_count": 1,
   "id": "7ca05049-483e-40b4-bd59-58eaabf1e160",
   "metadata": {},
   "outputs": [],
   "source": [
    "class TreeNode:\n",
    "    def __init__(self, val = 0, left = None, right = None):\n",
    "        self.val = val\n",
    "        self.left = left\n",
    "        self.right = right\n",
    "        "
   ]
  },
  {
   "cell_type": "code",
   "execution_count": 2,
   "id": "96c406de-d85b-41ca-a61b-8a14ac443e97",
   "metadata": {},
   "outputs": [],
   "source": [
    "def isSameTree(tree1:TreeNode, tree2:TreeNode):\n",
    "    if not tree1 and not tree2:\n",
    "        return true\n",
    "    if not tree1 or not tree2 or tree1.val != tree2.val:\n",
    "        return False\n",
    "\n",
    "    return isSameTree(tree1.left, tree2.left) and isSameTree(tree1.right, tree2.right)"
   ]
  },
  {
   "cell_type": "code",
   "execution_count": null,
   "id": "7d0be5a7-8807-495f-acc8-25286cf59c24",
   "metadata": {},
   "outputs": [],
   "source": []
  }
 ],
 "metadata": {
  "kernelspec": {
   "display_name": "Python 3 (ipykernel)",
   "language": "python",
   "name": "python3"
  },
  "language_info": {
   "codemirror_mode": {
    "name": "ipython",
    "version": 3
   },
   "file_extension": ".py",
   "mimetype": "text/x-python",
   "name": "python",
   "nbconvert_exporter": "python",
   "pygments_lexer": "ipython3",
   "version": "3.9.6"
  }
 },
 "nbformat": 4,
 "nbformat_minor": 5
}
