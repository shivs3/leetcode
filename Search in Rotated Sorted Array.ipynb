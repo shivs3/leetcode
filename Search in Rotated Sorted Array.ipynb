{
 "cells": [
  {
   "cell_type": "markdown",
   "id": "c57d6ee4-0961-4a2f-9f1d-cbdf71b96c93",
   "metadata": {},
   "source": [
    "# Search in Rotated Sorted Array"
   ]
  },
  {
   "cell_type": "raw",
   "id": "8ef79d3d-3765-409a-90ee-344852de1c53",
   "metadata": {},
   "source": [
    "There is an integer array nums sorted in ascending order (with distinct values).\n",
    "\n",
    "Prior to being passed to your function, nums is possibly rotated at an unknown pivot index k (1 <= k < nums.length) such that the resulting array is [nums[k], nums[k+1], ..., nums[n-1], nums[0], nums[1], ..., nums[k-1]] (0-indexed). For example, [0,1,2,4,5,6,7] might be rotated at pivot index 3 and become [4,5,6,7,0,1,2].\n",
    "\n",
    "Given the array nums after the possible rotation and an integer target, return the index of target if it is in nums, or -1 if it is not in nums.\n",
    "\n",
    "You must write an algorithm with O(log n) runtime complexity.\n",
    "\n",
    " \n",
    "\n",
    "Example 1:\n",
    "\n",
    "Input: nums = [4,5,6,7,0,1,2], target = 0\n",
    "Output: 4\n",
    "Example 2:\n",
    "\n",
    "Input: nums = [4,5,6,7,0,1,2], target = 3\n",
    "Output: -1\n",
    "Example 3:\n",
    "\n",
    "Input: nums = [1], target = 0\n",
    "Output: -1\n",
    " \n",
    "\n",
    "Constraints:\n",
    "\n",
    "1 <= nums.length <= 5000\n",
    "-104 <= nums[i] <= 104\n",
    "All values of nums are unique.\n",
    "nums is an ascending array that is possibly rotated.\n",
    "-104 <= target <= 104"
   ]
  },
  {
   "cell_type": "code",
   "execution_count": 2,
   "id": "d39ae467-c550-4537-9a15-2a6c066143f5",
   "metadata": {},
   "outputs": [],
   "source": [
    "def indexValue(nums, target):\n",
    "    l, r = 0, len(nums) - 1\n",
    "    while l<=r:\n",
    "        m = (l + r) // 2\n",
    "        if nums[m] == target:\n",
    "            return m\n",
    "        if nums[m] >= nums[l]:\n",
    "            if target > nums[m] or target < nums[l]:\n",
    "                l = m +1\n",
    "            else:\n",
    "                r = m - 1\n",
    "        else:\n",
    "            if target > nums[m] or target < nums[l]:\n",
    "                l = m + 1\n",
    "            else:\n",
    "                r = m - 1\n",
    "    return -1"
   ]
  },
  {
   "cell_type": "code",
   "execution_count": 5,
   "id": "3fcf9ba1-c89a-467b-bc62-0efe8ba75207",
   "metadata": {},
   "outputs": [],
   "source": [
    "nums = [4,5,6,7,0,1,2]\n",
    "target = 2"
   ]
  },
  {
   "cell_type": "code",
   "execution_count": 6,
   "id": "c4a65440-208b-48b3-9466-1d3ea4adff72",
   "metadata": {},
   "outputs": [
    {
     "data": {
      "text/plain": [
       "6"
      ]
     },
     "execution_count": 6,
     "metadata": {},
     "output_type": "execute_result"
    }
   ],
   "source": [
    "indexValue(nums, target)"
   ]
  },
  {
   "cell_type": "code",
   "execution_count": null,
   "id": "38c4d9a6-5949-4d4d-bc5b-845d878c28ef",
   "metadata": {},
   "outputs": [],
   "source": []
  }
 ],
 "metadata": {
  "kernelspec": {
   "display_name": "Python 3 (ipykernel)",
   "language": "python",
   "name": "python3"
  },
  "language_info": {
   "codemirror_mode": {
    "name": "ipython",
    "version": 3
   },
   "file_extension": ".py",
   "mimetype": "text/x-python",
   "name": "python",
   "nbconvert_exporter": "python",
   "pygments_lexer": "ipython3",
   "version": "3.9.6"
  }
 },
 "nbformat": 4,
 "nbformat_minor": 5
}
