{
 "cells": [
  {
   "cell_type": "markdown",
   "id": "3bec32ac-7b7d-429e-a88b-d3ac5f13b4d6",
   "metadata": {},
   "source": [
    "# Serialize and Deserialize Binary Tree"
   ]
  },
  {
   "cell_type": "code",
   "execution_count": 1,
   "id": "d863b385-78a0-4fe3-a81c-500767308115",
   "metadata": {},
   "outputs": [],
   "source": [
    "# Definition for a binary tree node.\n",
    "class TreeNode(object):\n",
    "    def __init__(self, x):\n",
    "        self.val = x\n",
    "        self.left = None\n",
    "        self.right = None\n",
    "\n",
    "class Codec:\n",
    "\n",
    "    def serialize(self, root):\n",
    "        res=[]\n",
    "\n",
    "        def dfs(node):\n",
    "            if not node:\n",
    "                res.append(\"N\")\n",
    "                return\n",
    "            \n",
    "            res.append(str(node.val))\n",
    "            dfs(node.left)\n",
    "            dfs(node.right)\n",
    "        dfs(root)\n",
    "        return \",\".join(res)\n",
    "\n",
    "    def deserialize(self, data):\n",
    "        vals = data.split(\",\")\n",
    "        self.i=0\n",
    "\n",
    "        def dfs():\n",
    "            if vals[self.i]==\"N\":\n",
    "                self.i+=1\n",
    "                return None\n",
    "            node = TreeNode(int(vals[self.i]))\n",
    "            self.i+=1\n",
    "            node.left = dfs()\n",
    "            node.right = dfs()\n",
    "            return node\n",
    "        return dfs()\n",
    "\n",
    "# Your Codec object will be instantiated and called as such:\n",
    "# ser = Codec()\n",
    "# deser = Codec()\n",
    "# ans = deser.deserialize(ser.serialize(root))"
   ]
  },
  {
   "cell_type": "code",
   "execution_count": null,
   "id": "5f207f92-8186-4128-8e4f-9b976fa198d8",
   "metadata": {},
   "outputs": [],
   "source": []
  }
 ],
 "metadata": {
  "kernelspec": {
   "display_name": "Python 3 (ipykernel)",
   "language": "python",
   "name": "python3"
  },
  "language_info": {
   "codemirror_mode": {
    "name": "ipython",
    "version": 3
   },
   "file_extension": ".py",
   "mimetype": "text/x-python",
   "name": "python",
   "nbconvert_exporter": "python",
   "pygments_lexer": "ipython3",
   "version": "3.9.6"
  }
 },
 "nbformat": 4,
 "nbformat_minor": 5
}
