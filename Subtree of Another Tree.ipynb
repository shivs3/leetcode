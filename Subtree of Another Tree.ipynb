{
 "cells": [
  {
   "cell_type": "markdown",
   "id": "1d73eaf2-c7e7-4c95-9c5c-317e7f09bd51",
   "metadata": {},
   "source": [
    "# Subtree of Another Tree"
   ]
  },
  {
   "cell_type": "raw",
   "id": "4c282e58-3719-449b-a2a0-0b0e35b8f7d3",
   "metadata": {},
   "source": [
    "Given the roots of two binary trees root and subRoot, return true if there is a subtree of root with the same structure and node values of subRoot and false otherwise.\n",
    "\n",
    "A subtree of a binary tree tree is a tree that consists of a node in tree and all of this node's descendants. The tree tree could also be considered as a subtree of itself.\n",
    "\n",
    " \n",
    "\n",
    "Example 1:\n",
    "\n",
    "\n",
    "Input: root = [3,4,5,1,2], subRoot = [4,1,2]\n",
    "Output: true\n",
    "Example 2:\n",
    "\n",
    "\n",
    "Input: root = [3,4,5,1,2,null,null,null,null,0], subRoot = [4,1,2]\n",
    "Output: false\n",
    " \n",
    "\n",
    "Constraints:\n",
    "\n",
    "The number of nodes in the root tree is in the range [1, 2000].\n",
    "The number of nodes in the subRoot tree is in the range [1, 1000].\n",
    "-104 <= root.val <= 104\n",
    "-104 <= subRoot.val <= 104"
   ]
  },
  {
   "cell_type": "code",
   "execution_count": 2,
   "id": "3955c6ab-2c09-4bc0-9132-650894ee91c2",
   "metadata": {},
   "outputs": [],
   "source": [
    "# Definition for a binary tree node.\n",
    "class TreeNode:\n",
    "    def __init__(self, val=0, left=None, right=None):\n",
    "        self.val = val\n",
    "        self.left = left\n",
    "        self.right = right"
   ]
  },
  {
   "cell_type": "code",
   "execution_count": 4,
   "id": "6a9480ef-1bad-43f9-b59c-ac0c5bf861fc",
   "metadata": {},
   "outputs": [],
   "source": [
    "class Solution:\n",
    "    def isSameTree(self, p: TreeNode, q: TreeNode):\n",
    "        if not p and not q:\n",
    "            return True\n",
    "        if not p or not q or p.val!=q.val:\n",
    "            return False\n",
    "        return self.isSameTree(p.left,q.left) and self.isSameTree(p.right,q.right)\n",
    "\n",
    "    def isSubtree(self, root:TreeNode, subRoot:TreeNode) :\n",
    "        if not root:\n",
    "            return False\n",
    "        if self.isSameTree(root,subRoot):\n",
    "            return True\n",
    "        return self.isSubtree(root.left,subRoot) or self.isSubtree(root.right,subRoot)"
   ]
  },
  {
   "cell_type": "code",
   "execution_count": null,
   "id": "b7b2debc-0886-4820-983e-0b26619b019a",
   "metadata": {},
   "outputs": [],
   "source": []
  }
 ],
 "metadata": {
  "kernelspec": {
   "display_name": "Python 3 (ipykernel)",
   "language": "python",
   "name": "python3"
  },
  "language_info": {
   "codemirror_mode": {
    "name": "ipython",
    "version": 3
   },
   "file_extension": ".py",
   "mimetype": "text/x-python",
   "name": "python",
   "nbconvert_exporter": "python",
   "pygments_lexer": "ipython3",
   "version": "3.9.6"
  }
 },
 "nbformat": 4,
 "nbformat_minor": 5
}
