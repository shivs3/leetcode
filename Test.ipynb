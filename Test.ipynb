{
 "cells": [
  {
   "cell_type": "code",
   "execution_count": 2,
   "id": "f3c6bf34-45f1-4f6e-8631-f3d25dcbb90f",
   "metadata": {},
   "outputs": [
    {
     "data": {
      "text/plain": [
       "97"
      ]
     },
     "execution_count": 2,
     "metadata": {},
     "output_type": "execute_result"
    }
   ],
   "source": [
    "s = \"lEetcOde\"\n",
    "ord('a')"
   ]
  },
  {
   "cell_type": "code",
   "execution_count": 3,
   "id": "38231e83-609c-4c4e-9da4-c23502f37e57",
   "metadata": {},
   "outputs": [],
   "source": [
    "ascii_data = [ord('a'),ord('e'),ord('i'),ord('o'),ord('u'),ord('A'),ord('E'),ord('I'),ord('O'),ord('U')]"
   ]
  },
  {
   "cell_type": "code",
   "execution_count": 7,
   "id": "79fd277c-0d8c-4926-97c8-7fc3f33e70d7",
   "metadata": {},
   "outputs": [],
   "source": [
    "res=[]\n",
    "for i,c in enumerate(s):\n",
    "    if ord(c) in ascii_data:\n",
    "        res.append((i,c))"
   ]
  },
  {
   "cell_type": "code",
   "execution_count": 8,
   "id": "9b1bf88e-63e1-4958-8dc6-97e02ef5e0d0",
   "metadata": {},
   "outputs": [
    {
     "data": {
      "text/plain": [
       "[(1, 'E'), (2, 'e'), (5, 'O'), (7, 'e')]"
      ]
     },
     "execution_count": 8,
     "metadata": {},
     "output_type": "execute_result"
    }
   ],
   "source": [
    "res"
   ]
  },
  {
   "cell_type": "code",
   "execution_count": 11,
   "id": "eb450efa-cc8f-4364-8a46-b060207e7ac3",
   "metadata": {},
   "outputs": [
    {
     "ename": "TypeError",
     "evalue": "'tuple' object does not support item assignment",
     "output_type": "error",
     "traceback": [
      "\u001b[0;31m---------------------------------------------------------------------------\u001b[0m",
      "\u001b[0;31mTypeError\u001b[0m                                 Traceback (most recent call last)",
      "Cell \u001b[0;32mIn[11], line 1\u001b[0m\n\u001b[0;32m----> 1\u001b[0m \u001b[43mres\u001b[49m\u001b[43m[\u001b[49m\u001b[38;5;241;43m0\u001b[39;49m\u001b[43m]\u001b[49m\u001b[43m[\u001b[49m\u001b[38;5;241;43m1\u001b[39;49m\u001b[43m]\u001b[49m\u001b[38;5;241m=\u001b[39m\u001b[38;5;124m'\u001b[39m\u001b[38;5;124md\u001b[39m\u001b[38;5;124m'\u001b[39m\n",
      "\u001b[0;31mTypeError\u001b[0m: 'tuple' object does not support item assignment"
     ]
    }
   ],
   "source": []
  },
  {
   "cell_type": "code",
   "execution_count": 12,
   "id": "df1e8cae-fbe1-4fa7-8957-0226c340cb89",
   "metadata": {},
   "outputs": [],
   "source": [
    "kVowels = 'aeiouAEIOU'\n",
    "ans = []\n",
    "vowels = sorted([c for c in s if c in kVowels])"
   ]
  },
  {
   "cell_type": "code",
   "execution_count": 13,
   "id": "a2ad649c-c88f-429c-86df-19c4aa2f75e2",
   "metadata": {},
   "outputs": [],
   "source": [
    "i = 0  # vowels' index\n",
    "for c in s:\n",
    "  if c in kVowels:\n",
    "    ans.append(vowels[i])\n",
    "    i += 1\n",
    "  else:\n",
    "    ans.append(c)"
   ]
  },
  {
   "cell_type": "code",
   "execution_count": 14,
   "id": "aaea7742-10de-417c-bd0f-29dde4728eb7",
   "metadata": {},
   "outputs": [
    {
     "data": {
      "text/plain": [
       "['l', 'E', 'O', 't', 'c', 'e', 'd', 'e']"
      ]
     },
     "execution_count": 14,
     "metadata": {},
     "output_type": "execute_result"
    }
   ],
   "source": [
    "ans"
   ]
  },
  {
   "cell_type": "code",
   "execution_count": 15,
   "id": "0015854d-2810-4f43-9872-49696cc22e70",
   "metadata": {},
   "outputs": [
    {
     "data": {
      "text/plain": [
       "'lEOtcede'"
      ]
     },
     "execution_count": 15,
     "metadata": {},
     "output_type": "execute_result"
    }
   ],
   "source": [
    "''.join(ans)"
   ]
  },
  {
   "cell_type": "code",
   "execution_count": 16,
   "id": "5b0482b3-44b6-4f1c-bc3a-b2765f879d20",
   "metadata": {},
   "outputs": [
    {
     "data": {
      "text/plain": [
       "['E', 'O', 'e', 'e']"
      ]
     },
     "execution_count": 16,
     "metadata": {},
     "output_type": "execute_result"
    }
   ],
   "source": [
    "vowels"
   ]
  },
  {
   "cell_type": "code",
   "execution_count": 26,
   "id": "dfdea9a6-19b7-4d50-b219-29e7c9487351",
   "metadata": {},
   "outputs": [],
   "source": [
    "vowel=sorted([c for c in s if c in 'aeiouAEIOU'])"
   ]
  },
  {
   "cell_type": "code",
   "execution_count": 27,
   "id": "97195d96-510a-4320-ba01-7f47cf1cabf7",
   "metadata": {},
   "outputs": [
    {
     "data": {
      "text/plain": [
       "['E', 'O', 'e', 'e']"
      ]
     },
     "execution_count": 27,
     "metadata": {},
     "output_type": "execute_result"
    }
   ],
   "source": [
    "vowel"
   ]
  },
  {
   "cell_type": "code",
   "execution_count": 28,
   "id": "07859f5f-048c-4322-b552-eddc81a7c97c",
   "metadata": {},
   "outputs": [],
   "source": [
    "i=0\n",
    "ans=''\n",
    "for c in s:\n",
    "    if c in vowel:\n",
    "        ans+=vowel[i]\n",
    "        i+=1\n",
    "    else:\n",
    "        ans+=c\n",
    "        "
   ]
  },
  {
   "cell_type": "code",
   "execution_count": 30,
   "id": "bb06ee2f-9cf8-4006-84bb-667c7adbe449",
   "metadata": {},
   "outputs": [
    {
     "data": {
      "text/plain": [
       "'lEOtcede'"
      ]
     },
     "execution_count": 30,
     "metadata": {},
     "output_type": "execute_result"
    }
   ],
   "source": [
    "ans"
   ]
  },
  {
   "cell_type": "code",
   "execution_count": 31,
   "id": "2609ae41-387f-4b5c-b34d-26b96eb2b56d",
   "metadata": {},
   "outputs": [],
   "source": [
    "x = set()"
   ]
  },
  {
   "cell_type": "code",
   "execution_count": 32,
   "id": "03a8de48-b920-4d38-8f20-2f6f4c6c8458",
   "metadata": {},
   "outputs": [],
   "source": [
    "x.add(1)"
   ]
  },
  {
   "cell_type": "code",
   "execution_count": 39,
   "id": "778fc044-a69c-4626-91f4-5882f11ad0d6",
   "metadata": {},
   "outputs": [],
   "source": [
    "s='abcLouttteebklsdoiuoioIIOExACUTEEEeouitfnjhghjgae'\n",
    "vowel=sorted([c for c in s if c in 'aeiouAEIOU'])"
   ]
  },
  {
   "cell_type": "code",
   "execution_count": 40,
   "id": "b85d33c3-602d-4ee7-bc5f-be9ef3a25bd8",
   "metadata": {},
   "outputs": [],
   "source": [
    "import time"
   ]
  },
  {
   "cell_type": "code",
   "execution_count": 44,
   "id": "824bc9b9-6181-4706-ab72-f962a76763b2",
   "metadata": {},
   "outputs": [
    {
     "name": "stdout",
     "output_type": "stream",
     "text": [
      "AbcLEEtttEEbklsdIIOUaaeeeexiCiTioooooutfnjhghjguu\n",
      "time required:  0.00044798851013183594\n"
     ]
    }
   ],
   "source": [
    "t1=time.time()\n",
    "i=0\n",
    "ans=''\n",
    "for c in s:\n",
    "    if c in vowel:\n",
    "        ans+=vowel[i]\n",
    "        i+=1\n",
    "    else:\n",
    "        ans+=c\n",
    "print(ans)\n",
    "print(\"time required: \",time.time()-t1)"
   ]
  },
  {
   "cell_type": "code",
   "execution_count": 51,
   "id": "55e6d105-3bae-4537-954d-a91baa0413d8",
   "metadata": {},
   "outputs": [],
   "source": [
    "path=\"/../\""
   ]
  },
  {
   "cell_type": "code",
   "execution_count": 63,
   "id": "54cbfc0f-6439-4b9d-8dd0-c53ccbfb85fb",
   "metadata": {},
   "outputs": [],
   "source": [
    "ans=['/']"
   ]
  },
  {
   "cell_type": "code",
   "execution_count": 64,
   "id": "4c2de9f1-062d-4d5c-86ce-891d2376eb75",
   "metadata": {},
   "outputs": [
    {
     "name": "stdout",
     "output_type": "stream",
     "text": [
      "['/', '/']\n",
      "['/']\n",
      "['/', '.']\n",
      "['/']\n",
      "['/', '.']\n",
      "['/']\n",
      "['/', '/']\n",
      "['/']\n"
     ]
    }
   ],
   "source": [
    "for i in path:\n",
    "    ans.append(i)\n",
    "    print(ans)\n",
    "    if i=='.':\n",
    "        ans.pop()\n",
    "    elif i==ans[-1]=='/':\n",
    "        ans.pop()\n",
    "    print(ans)"
   ]
  },
  {
   "cell_type": "code",
   "execution_count": 60,
   "id": "fe9e7c63-0c33-4df4-80c6-c799910c630b",
   "metadata": {},
   "outputs": [
    {
     "data": {
      "text/plain": [
       "[]"
      ]
     },
     "execution_count": 60,
     "metadata": {},
     "output_type": "execute_result"
    }
   ],
   "source": [
    "ans"
   ]
  },
  {
   "cell_type": "code",
   "execution_count": 55,
   "id": "7a4286a0-ae2c-4c90-bd30-390005f6e57a",
   "metadata": {},
   "outputs": [
    {
     "data": {
      "text/plain": [
       "3"
      ]
     },
     "execution_count": 55,
     "metadata": {},
     "output_type": "execute_result"
    }
   ],
   "source": [
    "a[-1]"
   ]
  },
  {
   "cell_type": "code",
   "execution_count": 56,
   "id": "e78792f8-6c66-4557-a7fb-d1d9ffb82650",
   "metadata": {},
   "outputs": [],
   "source": [
    "a=['/']"
   ]
  },
  {
   "cell_type": "code",
   "execution_count": 57,
   "id": "3c089383-fea1-4090-aad0-5dfe488694b6",
   "metadata": {},
   "outputs": [
    {
     "data": {
      "text/plain": [
       "'/'"
      ]
     },
     "execution_count": 57,
     "metadata": {},
     "output_type": "execute_result"
    }
   ],
   "source": [
    "a[-1]"
   ]
  },
  {
   "cell_type": "code",
   "execution_count": 65,
   "id": "7ce1d677-e6d5-4f51-8068-ec30a6ff82ae",
   "metadata": {},
   "outputs": [
    {
     "data": {
      "text/plain": [
       "'/'"
      ]
     },
     "execution_count": 65,
     "metadata": {},
     "output_type": "execute_result"
    }
   ],
   "source": [
    "''.join(ans)"
   ]
  },
  {
   "cell_type": "code",
   "execution_count": 73,
   "id": "e5c6ba17-c464-46cf-9e0c-3ec6ed1be4f1",
   "metadata": {},
   "outputs": [],
   "source": [
    "def mytest(path):\n",
    "    ans=[]\n",
    "    for i in path:\n",
    "        ans.append(i)\n",
    "        \n",
    "        if i=='.':\n",
    "            ans.pop()\n",
    "        elif i==ans[-1]=='/':\n",
    "            ans.pop()\n",
    "    return ''.join(ans)"
   ]
  },
  {
   "cell_type": "code",
   "execution_count": 74,
   "id": "9cc6a70a-27aa-4f49-a4c8-4d724949f04e",
   "metadata": {},
   "outputs": [],
   "source": [
    "path=\"/home/\""
   ]
  },
  {
   "cell_type": "code",
   "execution_count": 75,
   "id": "49ed0697-d101-4806-ae58-e27d27eb3ff5",
   "metadata": {},
   "outputs": [
    {
     "data": {
      "text/plain": [
       "'home'"
      ]
     },
     "execution_count": 75,
     "metadata": {},
     "output_type": "execute_result"
    }
   ],
   "source": [
    "mytest(path)"
   ]
  },
  {
   "cell_type": "code",
   "execution_count": 76,
   "id": "ddb52029-a863-4b08-b245-e6ce8488f951",
   "metadata": {},
   "outputs": [],
   "source": [
    "path='/home/desktop/'"
   ]
  },
  {
   "cell_type": "code",
   "execution_count": 77,
   "id": "ede5b836-b593-4707-8c8e-3e9babb480b8",
   "metadata": {},
   "outputs": [
    {
     "data": {
      "text/plain": [
       "'homedesktop'"
      ]
     },
     "execution_count": 77,
     "metadata": {},
     "output_type": "execute_result"
    }
   ],
   "source": [
    "mytest(path)"
   ]
  },
  {
   "cell_type": "code",
   "execution_count": 79,
   "id": "05a63cd6-f989-45d8-8e19-b20323c39911",
   "metadata": {},
   "outputs": [
    {
     "data": {
      "text/plain": [
       "[1, 2, 3, 4, 1, 2]"
      ]
     },
     "execution_count": 79,
     "metadata": {},
     "output_type": "execute_result"
    }
   ],
   "source": [
    "[1,2,3,4]+[1,2]"
   ]
  },
  {
   "cell_type": "code",
   "execution_count": 83,
   "id": "4963c8d5-ac37-4239-ae4d-509d5c9cb63c",
   "metadata": {},
   "outputs": [],
   "source": [
    "x1=[1,2,3,4,1]"
   ]
  },
  {
   "cell_type": "code",
   "execution_count": 81,
   "id": "9a6bf548-6c62-42c4-8815-9168d08aa1a5",
   "metadata": {},
   "outputs": [],
   "source": [
    "x1.remove(1)"
   ]
  },
  {
   "cell_type": "code",
   "execution_count": 82,
   "id": "25ecd43a-7c34-4977-a5d3-32a1cda1acac",
   "metadata": {},
   "outputs": [
    {
     "data": {
      "text/plain": [
       "[2, 3, 4, 1]"
      ]
     },
     "execution_count": 82,
     "metadata": {},
     "output_type": "execute_result"
    }
   ],
   "source": [
    "x1"
   ]
  },
  {
   "cell_type": "code",
   "execution_count": 84,
   "id": "203922a4-22e8-4c5a-8711-2f2c24f9553b",
   "metadata": {},
   "outputs": [
    {
     "data": {
      "text/plain": [
       "2"
      ]
     },
     "execution_count": 84,
     "metadata": {},
     "output_type": "execute_result"
    }
   ],
   "source": [
    "x1.count(1)"
   ]
  },
  {
   "cell_type": "markdown",
   "id": "5ddb1c31-18a3-4f47-9d9f-27671dd97130",
   "metadata": {},
   "source": [
    "# LINKED LIST"
   ]
  },
  {
   "cell_type": "markdown",
   "id": "3279c626-5f64-496d-80dd-6c149384df1d",
   "metadata": {},
   "source": [
    "# TRIE"
   ]
  },
  {
   "cell_type": "code",
   "execution_count": 85,
   "id": "b64f8a25-fe10-4231-87cc-cb8d50c667c8",
   "metadata": {},
   "outputs": [],
   "source": [
    "class TrieNode:\n",
    "    def __init__(self):\n",
    "        self.children={}\n",
    "        self.endOfWord=False"
   ]
  },
  {
   "cell_type": "code",
   "execution_count": 90,
   "id": "00deaaeb-2620-43c5-a6a2-d566a30f2ae8",
   "metadata": {},
   "outputs": [],
   "source": [
    "class Trie:\n",
    "    def __init__(self):\n",
    "        self.root=TrieNode()\n",
    "    def insert(self,word):\n",
    "        cur=self.root\n",
    "        for c in word:\n",
    "            if c not in cur.children:\n",
    "                cur.children[c]=TrieNode()\n",
    "            cur=cur.children[c]\n",
    "        cur.endOfWord=True\n",
    "    def search(self,word):\n",
    "        cur=self.root\n",
    "        for c in word:\n",
    "            if c not in cur.children:\n",
    "                return False\n",
    "            cur=cur.children[c]\n",
    "        return cur.endOfWord\n",
    "    def serchwith(self,prefix):\n",
    "        cur = self.root\n",
    "        for c in prefix:\n",
    "            if c not in cur.children:\n",
    "                return False\n",
    "            cur=cur.children\n",
    "        return True\n",
    "        "
   ]
  },
  {
   "cell_type": "code",
   "execution_count": 91,
   "id": "6453e790-097c-4344-8537-887b7b204603",
   "metadata": {},
   "outputs": [],
   "source": [
    "a=Trie()"
   ]
  },
  {
   "cell_type": "code",
   "execution_count": 92,
   "id": "5b0ef4e3-0de5-4a71-ac51-c008148e3f42",
   "metadata": {},
   "outputs": [],
   "source": [
    "a.insert('apple')"
   ]
  },
  {
   "cell_type": "code",
   "execution_count": 93,
   "id": "d173f56b-f3a8-45ac-a247-8a3e0897ec0c",
   "metadata": {},
   "outputs": [
    {
     "data": {
      "text/plain": [
       "<__main__.Trie at 0x106d3b970>"
      ]
     },
     "execution_count": 93,
     "metadata": {},
     "output_type": "execute_result"
    }
   ],
   "source": [
    "a"
   ]
  },
  {
   "cell_type": "code",
   "execution_count": 97,
   "id": "19d9ef7a-5bf6-4110-95a6-14167126828e",
   "metadata": {},
   "outputs": [
    {
     "data": {
      "text/plain": [
       "True"
      ]
     },
     "execution_count": 97,
     "metadata": {},
     "output_type": "execute_result"
    }
   ],
   "source": [
    "a.search('apple')"
   ]
  },
  {
   "cell_type": "code",
   "execution_count": 98,
   "id": "e9cba07d-4f7d-45b0-a071-da45b02c9cfe",
   "metadata": {},
   "outputs": [
    {
     "data": {
      "text/plain": [
       "<__main__.Trie at 0x106d3b970>"
      ]
     },
     "execution_count": 98,
     "metadata": {},
     "output_type": "execute_result"
    }
   ],
   "source": [
    "a"
   ]
  },
  {
   "cell_type": "markdown",
   "id": "701774aa-278e-4975-9e66-1c942b936547",
   "metadata": {},
   "source": [
    "# BackTracking"
   ]
  },
  {
   "cell_type": "code",
   "execution_count": 99,
   "id": "7d98f89a-3c10-4fa0-8a55-ca763c9bdb72",
   "metadata": {},
   "outputs": [],
   "source": [
    "nums=[1,2,3]"
   ]
  },
  {
   "cell_type": "code",
   "execution_count": 108,
   "id": "e217fa94-5d51-4ba2-b881-3abdf9762644",
   "metadata": {},
   "outputs": [],
   "source": [
    "res=[]\n",
    "subset=[]"
   ]
  },
  {
   "cell_type": "code",
   "execution_count": 109,
   "id": "34a19bbe-fad5-49dc-b226-c304efdb94ad",
   "metadata": {},
   "outputs": [],
   "source": [
    "def dfs(i):\n",
    "    if i>=len(nums):\n",
    "        res.append(subset.copy())\n",
    "        return\n",
    "    # Decision to include nums[i]\n",
    "    subset.append(nums[i])\n",
    "    print('s1: ',subset)\n",
    "    dfs(i+1)\n",
    "    # Decision to nor include nums[i]\n",
    "    subset.pop()\n",
    "    print('s2: ',subset)\n",
    "    dfs(i+1)\n",
    "    return res\n"
   ]
  },
  {
   "cell_type": "code",
   "execution_count": 110,
   "id": "1f829eee-76d2-4929-8340-6d3718ca3b48",
   "metadata": {},
   "outputs": [
    {
     "name": "stdout",
     "output_type": "stream",
     "text": [
      "s1:  [1]\n",
      "s1:  [1, 2]\n",
      "s1:  [1, 2, 3]\n",
      "s2:  [1, 2]\n",
      "s2:  [1]\n",
      "s1:  [1, 3]\n",
      "s2:  [1]\n",
      "s2:  []\n",
      "s1:  [2]\n",
      "s1:  [2, 3]\n",
      "s2:  [2]\n",
      "s2:  []\n",
      "s1:  [3]\n",
      "s2:  []\n"
     ]
    },
    {
     "data": {
      "text/plain": [
       "[[1, 2, 3], [1, 2], [1, 3], [1], [2, 3], [2], [3], []]"
      ]
     },
     "execution_count": 110,
     "metadata": {},
     "output_type": "execute_result"
    }
   ],
   "source": [
    "dfs(0)"
   ]
  },
  {
   "cell_type": "code",
   "execution_count": 111,
   "id": "8e4ebd14-9205-4f17-bbaa-eb10c7f8ddd7",
   "metadata": {},
   "outputs": [
    {
     "data": {
      "text/plain": [
       "[[1, 2, 3], [1, 2], [1, 3], [1], [2, 3], [2], [3], []]"
      ]
     },
     "execution_count": 111,
     "metadata": {},
     "output_type": "execute_result"
    }
   ],
   "source": [
    "res"
   ]
  },
  {
   "cell_type": "code",
   "execution_count": null,
   "id": "31018af1-0a61-4ad1-be46-50d34ee4581c",
   "metadata": {},
   "outputs": [],
   "source": []
  }
 ],
 "metadata": {
  "kernelspec": {
   "display_name": "Python 3 (ipykernel)",
   "language": "python",
   "name": "python3"
  },
  "language_info": {
   "codemirror_mode": {
    "name": "ipython",
    "version": 3
   },
   "file_extension": ".py",
   "mimetype": "text/x-python",
   "name": "python",
   "nbconvert_exporter": "python",
   "pygments_lexer": "ipython3",
   "version": "3.9.6"
  }
 },
 "nbformat": 4,
 "nbformat_minor": 5
}
