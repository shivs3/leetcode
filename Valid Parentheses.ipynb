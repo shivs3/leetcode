{
 "cells": [
  {
   "cell_type": "markdown",
   "id": "e3c39d7d-1d53-462f-abec-52ad9b9531ac",
   "metadata": {},
   "source": [
    "# Valid Parentheses"
   ]
  },
  {
   "cell_type": "raw",
   "id": "5cea4515-48a5-44a4-b635-140d8913eb37",
   "metadata": {},
   "source": [
    "Given a string s containing just the characters '(', ')', '{', '}', '[' and ']', determine if the input string is valid.\n",
    "\n",
    "An input string is valid if:\n",
    "\n",
    "Open brackets must be closed by the same type of brackets.\n",
    "Open brackets must be closed in the correct order.\n",
    "Every close bracket has a corresponding open bracket of the same type.\n",
    " \n",
    "\n",
    "Example 1:\n",
    "\n",
    "Input: s = \"()\"\n",
    "\n",
    "Output: true\n",
    "\n",
    "Example 2:\n",
    "\n",
    "Input: s = \"()[]{}\"\n",
    "\n",
    "Output: true\n",
    "\n",
    "Example 3:\n",
    "\n",
    "Input: s = \"(]\"\n",
    "\n",
    "Output: false\n",
    "\n",
    "Example 4:\n",
    "\n",
    "Input: s = \"([])\"\n",
    "\n",
    "Output: true\n",
    "\n",
    " \n",
    "\n",
    "Constraints:\n",
    "\n",
    "1 <= s.length <= 104\n",
    "s consists of parentheses only '()[]{}'."
   ]
  },
  {
   "cell_type": "code",
   "execution_count": 3,
   "id": "63c9548c-b757-4dea-b3d2-2ed9c113f6fc",
   "metadata": {},
   "outputs": [],
   "source": [
    "def validParenthesis(s):\n",
    "    stack = []\n",
    "    for c in s:\n",
    "        if c == '(':\n",
    "            stack.append(')')\n",
    "        elif c == '{':\n",
    "            stack.append('}')\n",
    "        elif c == '[':\n",
    "            stack.append(']')\n",
    "        elif not stack or stack.pop() != c:\n",
    "            return False\n",
    "    return not stack"
   ]
  },
  {
   "cell_type": "code",
   "execution_count": 6,
   "id": "9a820db5-86fc-44fe-9289-59fa01d3515c",
   "metadata": {},
   "outputs": [],
   "source": [
    "s = \"()[{]}\""
   ]
  },
  {
   "cell_type": "code",
   "execution_count": 7,
   "id": "d3987d1c-65e7-42c5-974b-8ff8dc1f3bd7",
   "metadata": {},
   "outputs": [
    {
     "data": {
      "text/plain": [
       "False"
      ]
     },
     "execution_count": 7,
     "metadata": {},
     "output_type": "execute_result"
    }
   ],
   "source": [
    "validParenthesis(s)"
   ]
  },
  {
   "cell_type": "code",
   "execution_count": null,
   "id": "c0f03e37-3464-483a-a2bd-f5dc88060d39",
   "metadata": {},
   "outputs": [],
   "source": []
  }
 ],
 "metadata": {
  "kernelspec": {
   "display_name": "Python 3 (ipykernel)",
   "language": "python",
   "name": "python3"
  },
  "language_info": {
   "codemirror_mode": {
    "name": "ipython",
    "version": 3
   },
   "file_extension": ".py",
   "mimetype": "text/x-python",
   "name": "python",
   "nbconvert_exporter": "python",
   "pygments_lexer": "ipython3",
   "version": "3.9.6"
  }
 },
 "nbformat": 4,
 "nbformat_minor": 5
}
