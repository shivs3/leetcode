{
 "cells": [
  {
   "cell_type": "markdown",
   "id": "65700df1-ade2-425a-8722-54708295b28d",
   "metadata": {},
   "source": [
    "# Validate Binary Search Tree"
   ]
  },
  {
   "cell_type": "raw",
   "id": "37840d44-c30c-4edd-9d39-8e805cf9586b",
   "metadata": {},
   "source": [
    "Given the root of a binary tree, determine if it is a valid binary search tree (BST).\n",
    "\n",
    "A valid BST is defined as follows:\n",
    "\n",
    "The left subtree of a node contains only nodes with keys less than the node's key.\n",
    "The right subtree of a node contains only nodes with keys greater than the node's key.\n",
    "Both the left and right subtrees must also be binary search trees.\n",
    " \n",
    "\n",
    "Example 1:\n",
    "\n",
    "\n",
    "Input: root = [2,1,3]\n",
    "Output: true\n",
    "Example 2:\n",
    "\n",
    "\n",
    "Input: root = [5,1,4,null,null,3,6]\n",
    "Output: false\n",
    "Explanation: The root node's value is 5 but its right child's value is 4.\n",
    " \n",
    "\n",
    "Constraints:\n",
    "\n",
    "The number of nodes in the tree is in the range [1, 104].\n",
    "-231 <= Node.val <= 231 - 1"
   ]
  },
  {
   "cell_type": "code",
   "execution_count": 3,
   "id": "844bb90e-aab9-4d3a-853b-a3571bcd03ff",
   "metadata": {},
   "outputs": [],
   "source": [
    "# Definition for a binary tree node.\n",
    "class TreeNode:\n",
    "    def __init__(self, val=0, left=None, right=None):\n",
    "        self.val = val\n",
    "        self.left = left\n",
    "        self.right = right\n"
   ]
  },
  {
   "cell_type": "code",
   "execution_count": 4,
   "id": "a2ee13ca-92c6-4011-9672-ff36b875fa13",
   "metadata": {},
   "outputs": [],
   "source": [
    "class Solution:\n",
    "    def isValidBST(self, root: TreeNode) -> bool:\n",
    "        def valid(node,left,right):\n",
    "            if not node:\n",
    "                return True\n",
    "            if not(node.val>left and node.val<right):\n",
    "                return False\n",
    "            return (valid(node.left,left,node.val)and valid(node.right,node.val,right))\n",
    "        return valid(root,float('-inf'),float('inf'))"
   ]
  },
  {
   "cell_type": "code",
   "execution_count": null,
   "id": "a2fad451-2375-4f9e-b2fb-e526b8ed600b",
   "metadata": {},
   "outputs": [],
   "source": []
  }
 ],
 "metadata": {
  "kernelspec": {
   "display_name": "Python 3 (ipykernel)",
   "language": "python",
   "name": "python3"
  },
  "language_info": {
   "codemirror_mode": {
    "name": "ipython",
    "version": 3
   },
   "file_extension": ".py",
   "mimetype": "text/x-python",
   "name": "python",
   "nbconvert_exporter": "python",
   "pygments_lexer": "ipython3",
   "version": "3.9.6"
  }
 },
 "nbformat": 4,
 "nbformat_minor": 5
}
