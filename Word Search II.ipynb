{
 "cells": [
  {
   "cell_type": "markdown",
   "id": "8cb265f6-0460-4978-a853-6655422346f5",
   "metadata": {},
   "source": [
    "# Word Search II"
   ]
  },
  {
   "cell_type": "raw",
   "id": "f8ea474f-0160-4ae1-b6df-55e2f1d513e9",
   "metadata": {},
   "source": [
    "Given an m x n board of characters and a list of strings words, return all words on the board.\n",
    "\n",
    "Each word must be constructed from letters of sequentially adjacent cells, where adjacent cells are horizontally or vertically neighboring. The same letter cell may not be used more than once in a word.\n",
    "\n",
    " \n",
    "\n",
    "Example 1:\n",
    "\n",
    "\n",
    "Input: board = [[\"o\",\"a\",\"a\",\"n\"],[\"e\",\"t\",\"a\",\"e\"],[\"i\",\"h\",\"k\",\"r\"],[\"i\",\"f\",\"l\",\"v\"]], words = [\"oath\",\"pea\",\"eat\",\"rain\"]\n",
    "Output: [\"eat\",\"oath\"]\n",
    "Example 2:\n",
    "\n",
    "\n",
    "Input: board = [[\"a\",\"b\"],[\"c\",\"d\"]], words = [\"abcb\"]\n",
    "Output: []\n",
    " \n",
    "\n",
    "Constraints:\n",
    "\n",
    "m == board.length\n",
    "n == board[i].length\n",
    "1 <= m, n <= 12\n",
    "board[i][j] is a lowercase English letter.\n",
    "1 <= words.length <= 3 * 104\n",
    "1 <= words[i].length <= 10\n",
    "words[i] consists of lowercase English letters.\n",
    "All the strings of words are unique."
   ]
  },
  {
   "cell_type": "code",
   "execution_count": 1,
   "id": "5cb5098f-12ac-4556-923e-10d8581f2f73",
   "metadata": {},
   "outputs": [],
   "source": [
    "class TrieNode:\n",
    "    def __init__(self):\n",
    "        self.children = {}\n",
    "        self.endOfWord = False\n",
    "\n",
    "    def addWord(self, word):\n",
    "        cur = self\n",
    "        for c in word:\n",
    "            if c not in cur.children:\n",
    "                cur.children[c] = TrieNode()\n",
    "            cur = cur.children[c]\n",
    "        cur.endOfWord = True\n",
    "\n",
    "\n",
    "class Solution:\n",
    "    def findWords(self, board, words):\n",
    "        root = TrieNode()\n",
    "        for w in words:\n",
    "            root.addWord(w)\n",
    "\n",
    "        ROWS, COLS = len(board), len(board[0])\n",
    "        res, visit = set(), set()\n",
    "        \n",
    "        def dfs(r, c, node, word):\n",
    "            if r<0 or c<0 or r>=ROWS or c>=COLS or (r,c) in visit or board[r][c] not in node.children:\n",
    "                return\n",
    "            visit.add((r,c))\n",
    "            node = node.children[board[r][c]]\n",
    "            word+=board[r][c]\n",
    "            if node.endOfWord:\n",
    "                res.add(word)\n",
    "            dfs(r+1, c, node, word)\n",
    "            dfs(r-1, c, node, word)\n",
    "            dfs(r, c+1, node, word)\n",
    "            dfs(r, c-1, node, word)\n",
    "            visit.remove((r,c))\n",
    "\n",
    "        for r in range(ROWS):\n",
    "            for c in range(COLS):\n",
    "                dfs(r,c,root,'')\n",
    "        return list(res)"
   ]
  },
  {
   "cell_type": "code",
   "execution_count": null,
   "id": "a70067eb-1d8a-45e4-bbcf-142ee3baf02b",
   "metadata": {},
   "outputs": [],
   "source": []
  }
 ],
 "metadata": {
  "kernelspec": {
   "display_name": "Python 3 (ipykernel)",
   "language": "python",
   "name": "python3"
  },
  "language_info": {
   "codemirror_mode": {
    "name": "ipython",
    "version": 3
   },
   "file_extension": ".py",
   "mimetype": "text/x-python",
   "name": "python",
   "nbconvert_exporter": "python",
   "pygments_lexer": "ipython3",
   "version": "3.9.6"
  }
 },
 "nbformat": 4,
 "nbformat_minor": 5
}
