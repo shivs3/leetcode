{
 "cells": [
  {
   "cell_type": "code",
   "execution_count": 1,
   "id": "99e0a169-d405-46cf-ade2-8a5036f44c02",
   "metadata": {},
   "outputs": [],
   "source": [
    "s = ' I am the boss  '"
   ]
  },
  {
   "cell_type": "code",
   "execution_count": 3,
   "id": "f898e867-b720-4112-9081-9f44245f2aab",
   "metadata": {},
   "outputs": [
    {
     "data": {
      "text/plain": [
       "['', 'I', 'am', 'the', 'boss', '', '']"
      ]
     },
     "execution_count": 3,
     "metadata": {},
     "output_type": "execute_result"
    }
   ],
   "source": [
    "s.split(' ')"
   ]
  },
  {
   "cell_type": "code",
   "execution_count": 4,
   "id": "d63c34ae-5ef7-463d-86eb-8bd2e4f2887b",
   "metadata": {},
   "outputs": [],
   "source": [
    "x = [1,0,2,3]"
   ]
  },
  {
   "cell_type": "code",
   "execution_count": 5,
   "id": "f607d335-0d63-4961-ace4-abacd787ab9b",
   "metadata": {},
   "outputs": [
    {
     "data": {
      "text/plain": [
       "1"
      ]
     },
     "execution_count": 5,
     "metadata": {},
     "output_type": "execute_result"
    }
   ],
   "source": [
    "x.pop(0)"
   ]
  },
  {
   "cell_type": "code",
   "execution_count": 6,
   "id": "ee310743-75d9-4b0b-843d-989a9b3989f9",
   "metadata": {},
   "outputs": [
    {
     "data": {
      "text/plain": [
       "[0, 2, 3]"
      ]
     },
     "execution_count": 6,
     "metadata": {},
     "output_type": "execute_result"
    }
   ],
   "source": [
    "x"
   ]
  },
  {
   "cell_type": "code",
   "execution_count": 7,
   "id": "0754a20a-55f4-42f3-b73f-1b818fecb0a9",
   "metadata": {},
   "outputs": [],
   "source": [
    "x.remove(0)"
   ]
  },
  {
   "cell_type": "code",
   "execution_count": 8,
   "id": "90719c6b-12af-48b4-b358-e8e2f40a13f2",
   "metadata": {},
   "outputs": [
    {
     "data": {
      "text/plain": [
       "[2, 3]"
      ]
     },
     "execution_count": 8,
     "metadata": {},
     "output_type": "execute_result"
    }
   ],
   "source": [
    "x"
   ]
  },
  {
   "cell_type": "code",
   "execution_count": 20,
   "id": "96521442-2136-44fc-9346-3a0d5a3b47fe",
   "metadata": {},
   "outputs": [],
   "source": [
    "s = 'abbbab'"
   ]
  },
  {
   "cell_type": "code",
   "execution_count": 26,
   "id": "3441c70a-3bf9-490f-a38e-4f07426f1d70",
   "metadata": {},
   "outputs": [],
   "source": [
    "from collections import defaultdict\n",
    "count = {}\n",
    "pos = defaultdict(list)"
   ]
  },
  {
   "cell_type": "code",
   "execution_count": 27,
   "id": "6f37fa31-c3e3-4be3-9484-69ebf2d94919",
   "metadata": {},
   "outputs": [],
   "source": [
    "for i, c in enumerate(s):\n",
    "    count[c] = 1+ count.get(c,0)\n",
    "    pos[c].append(i)\n",
    "    "
   ]
  },
  {
   "cell_type": "code",
   "execution_count": 28,
   "id": "8f7378bf-07fd-42ca-bcf6-cd21ed0d5683",
   "metadata": {},
   "outputs": [
    {
     "data": {
      "text/plain": [
       "{'a': 2, 'b': 4}"
      ]
     },
     "execution_count": 28,
     "metadata": {},
     "output_type": "execute_result"
    }
   ],
   "source": [
    "count"
   ]
  },
  {
   "cell_type": "code",
   "execution_count": 29,
   "id": "a7354c39-ea0b-4d83-9e98-ecacc4d8c5bd",
   "metadata": {},
   "outputs": [
    {
     "data": {
      "text/plain": [
       "defaultdict(list, {'a': [0, 4], 'b': [1, 2, 3, 5]})"
      ]
     },
     "execution_count": 29,
     "metadata": {},
     "output_type": "execute_result"
    }
   ],
   "source": [
    "pos"
   ]
  },
  {
   "cell_type": "code",
   "execution_count": 30,
   "id": "1ac073ed-0c01-44d2-bcc0-bdc4a2d171d1",
   "metadata": {},
   "outputs": [],
   "source": [
    "pattern = \"abba\""
   ]
  },
  {
   "cell_type": "code",
   "execution_count": 31,
   "id": "ee78b994-118d-422a-ba8a-33a00848bc23",
   "metadata": {},
   "outputs": [],
   "source": [
    "pos = defaultdict(list)\n",
    "for i, c in enumerate(pattern):\n",
    "    # count[c] = 1+count.get(c,0)\n",
    "    pos[c].append(i)"
   ]
  },
  {
   "cell_type": "code",
   "execution_count": 32,
   "id": "8823957e-a590-4e3d-865d-550a7f1c8e49",
   "metadata": {},
   "outputs": [
    {
     "data": {
      "text/plain": [
       "dict_values([[0, 3], [1, 2]])"
      ]
     },
     "execution_count": 32,
     "metadata": {},
     "output_type": "execute_result"
    }
   ],
   "source": [
    "pos.values()"
   ]
  },
  {
   "cell_type": "code",
   "execution_count": 33,
   "id": "0a953572-35d8-4acb-b338-5cb93042e59f",
   "metadata": {},
   "outputs": [],
   "source": [
    "s = \"dog cat cat dog\""
   ]
  },
  {
   "cell_type": "code",
   "execution_count": 34,
   "id": "ac4dc669-0c04-4b7c-9e38-acac330ffac8",
   "metadata": {},
   "outputs": [],
   "source": [
    "wordpos = defaultdict(list)\n",
    "for i, word in enumerate(s.split(' ')):\n",
    "    wordpos[word].append(i)"
   ]
  },
  {
   "cell_type": "code",
   "execution_count": 36,
   "id": "a411b511-590f-440c-8eae-3d87af68024f",
   "metadata": {},
   "outputs": [
    {
     "data": {
      "text/plain": [
       "dict_values([[0, 3], [1, 2]])"
      ]
     },
     "execution_count": 36,
     "metadata": {},
     "output_type": "execute_result"
    }
   ],
   "source": [
    "wordpos.values()"
   ]
  },
  {
   "cell_type": "code",
   "execution_count": 38,
   "id": "465f1260-ebef-43da-af8d-ab57897c5694",
   "metadata": {},
   "outputs": [
    {
     "data": {
      "text/plain": [
       "True"
      ]
     },
     "execution_count": 38,
     "metadata": {},
     "output_type": "execute_result"
    }
   ],
   "source": [
    "list(pos.values()) == list(wordpos.values())"
   ]
  },
  {
   "cell_type": "code",
   "execution_count": null,
   "id": "ae074111-3822-47d7-9585-57bb22e33c12",
   "metadata": {},
   "outputs": [],
   "source": []
  }
 ],
 "metadata": {
  "kernelspec": {
   "display_name": "Python 3 (ipykernel)",
   "language": "python",
   "name": "python3"
  },
  "language_info": {
   "codemirror_mode": {
    "name": "ipython",
    "version": 3
   },
   "file_extension": ".py",
   "mimetype": "text/x-python",
   "name": "python",
   "nbconvert_exporter": "python",
   "pygments_lexer": "ipython3",
   "version": "3.9.6"
  }
 },
 "nbformat": 4,
 "nbformat_minor": 5
}
